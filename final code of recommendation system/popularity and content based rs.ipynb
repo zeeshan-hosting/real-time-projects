{
  "nbformat": 4,
  "nbformat_minor": 0,
  "metadata": {
    "colab": {
      "name": "Recommendation.ipynb",
      "provenance": [],
      "collapsed_sections": []
    },
    "kernelspec": {
      "name": "python3",
      "display_name": "Python 3"
    },
    "language_info": {
      "name": "python"
    }
  },
  "cells": [
    {
      "cell_type": "markdown",
      "metadata": {
        "id": "-SpNroRntDJq"
      },
      "source": [
        "*************MUSIC RECOMMENDATION SYSTEM ***********"
      ]
    },
    {
      "cell_type": "markdown",
      "metadata": {
        "id": "FIe9VVZTwXmL"
      },
      "source": [
        "# created by:\n",
        "## 1)AMIT KUMAR YADAV\n",
        "## 2)MD ZEESHAN ARIF\n",
        "## 3)JAIMIN MAKWANA\n",
        "## 4)MANAN PAREEK\n",
        "## 5)MEHUL KHANDALWAL"
      ]
    },
    {
      "cell_type": "markdown",
      "metadata": {
        "id": "kkaCGtQMxS6m"
      },
      "source": [
        "![download.png](data:image/png;base64,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)"
      ]
    },
    {
      "cell_type": "markdown",
      "metadata": {
        "id": "-P_CgAZRtd1i"
      },
      "source": [
        "###### By using music recommender system, the music provider can predict and then offer the appropriate songs to their users based on the characteristics of the music that has been heard previously."
      ]
    },
    {
      "cell_type": "markdown",
      "metadata": {
        "id": "e16x6aBJthDb"
      },
      "source": [
        "## importing all the necessary libraries: "
      ]
    },
    {
      "cell_type": "code",
      "metadata": {
        "id": "G-p6x2hS9UNv"
      },
      "source": [
        "import warnings \n",
        "warnings.filterwarnings('ignore')"
      ],
      "execution_count": 4,
      "outputs": []
    },
    {
      "cell_type": "code",
      "metadata": {
        "id": "cOu0SeM2KxDa"
      },
      "source": [
        "import pandas as pd\n",
        "import numpy as np\n",
        "import matplotlib.pyplot as plt\n",
        "import seaborn as sns"
      ],
      "execution_count": 5,
      "outputs": []
    },
    {
      "cell_type": "markdown",
      "metadata": {
        "id": "k0Yf4Acatt8w"
      },
      "source": [
        "## loading the datasets:"
      ]
    },
    {
      "cell_type": "code",
      "metadata": {
        "id": "ErRnE9ncK7gd"
      },
      "source": [
        "df=pd.read_csv(\"/content/drive/MyDrive/kaggle/kaggle_visible_evaluation_triplets.txt\",sep='\\t',names=[\"user_id\",'song_id','freq'])"
      ],
      "execution_count": 6,
      "outputs": []
    },
    {
      "cell_type": "code",
      "metadata": {
        "id": "GobUKOlZMHd3",
        "colab": {
          "base_uri": "https://localhost:8080/",
          "height": 204
        },
        "outputId": "6e6036f1-fa7e-4cb0-914c-363bdd36fc04"
      },
      "source": [
        "# checked the heads of the \n",
        "\n",
        "df.head(5)   "
      ],
      "execution_count": 7,
      "outputs": [
        {
          "output_type": "execute_result",
          "data": {
            "text/html": [
              "<div>\n",
              "<style scoped>\n",
              "    .dataframe tbody tr th:only-of-type {\n",
              "        vertical-align: middle;\n",
              "    }\n",
              "\n",
              "    .dataframe tbody tr th {\n",
              "        vertical-align: top;\n",
              "    }\n",
              "\n",
              "    .dataframe thead th {\n",
              "        text-align: right;\n",
              "    }\n",
              "</style>\n",
              "<table border=\"1\" class=\"dataframe\">\n",
              "  <thead>\n",
              "    <tr style=\"text-align: right;\">\n",
              "      <th></th>\n",
              "      <th>user_id</th>\n",
              "      <th>song_id</th>\n",
              "      <th>freq</th>\n",
              "    </tr>\n",
              "  </thead>\n",
              "  <tbody>\n",
              "    <tr>\n",
              "      <th>0</th>\n",
              "      <td>fd50c4007b68a3737fe052d5a4f78ce8aa117f3d</td>\n",
              "      <td>SOBONKR12A58A7A7E0</td>\n",
              "      <td>1</td>\n",
              "    </tr>\n",
              "    <tr>\n",
              "      <th>1</th>\n",
              "      <td>fd50c4007b68a3737fe052d5a4f78ce8aa117f3d</td>\n",
              "      <td>SOEGIYH12A6D4FC0E3</td>\n",
              "      <td>1</td>\n",
              "    </tr>\n",
              "    <tr>\n",
              "      <th>2</th>\n",
              "      <td>fd50c4007b68a3737fe052d5a4f78ce8aa117f3d</td>\n",
              "      <td>SOFLJQZ12A6D4FADA6</td>\n",
              "      <td>1</td>\n",
              "    </tr>\n",
              "    <tr>\n",
              "      <th>3</th>\n",
              "      <td>fd50c4007b68a3737fe052d5a4f78ce8aa117f3d</td>\n",
              "      <td>SOHTKMO12AB01843B0</td>\n",
              "      <td>1</td>\n",
              "    </tr>\n",
              "    <tr>\n",
              "      <th>4</th>\n",
              "      <td>fd50c4007b68a3737fe052d5a4f78ce8aa117f3d</td>\n",
              "      <td>SODQZCY12A6D4F9D11</td>\n",
              "      <td>1</td>\n",
              "    </tr>\n",
              "  </tbody>\n",
              "</table>\n",
              "</div>"
            ],
            "text/plain": [
              "                                    user_id             song_id  freq\n",
              "0  fd50c4007b68a3737fe052d5a4f78ce8aa117f3d  SOBONKR12A58A7A7E0     1\n",
              "1  fd50c4007b68a3737fe052d5a4f78ce8aa117f3d  SOEGIYH12A6D4FC0E3     1\n",
              "2  fd50c4007b68a3737fe052d5a4f78ce8aa117f3d  SOFLJQZ12A6D4FADA6     1\n",
              "3  fd50c4007b68a3737fe052d5a4f78ce8aa117f3d  SOHTKMO12AB01843B0     1\n",
              "4  fd50c4007b68a3737fe052d5a4f78ce8aa117f3d  SODQZCY12A6D4F9D11     1"
            ]
          },
          "metadata": {
            "tags": []
          },
          "execution_count": 7
        }
      ]
    },
    {
      "cell_type": "code",
      "metadata": {
        "id": "4gdmAhA4Pzti",
        "colab": {
          "base_uri": "https://localhost:8080/"
        },
        "outputId": "45bbdeb0-abc8-4bd6-83f3-b461d0f7842b"
      },
      "source": [
        "df.shape"
      ],
      "execution_count": 8,
      "outputs": [
        {
          "output_type": "execute_result",
          "data": {
            "text/plain": [
              "(1450933, 3)"
            ]
          },
          "metadata": {
            "tags": []
          },
          "execution_count": 8
        }
      ]
    },
    {
      "cell_type": "code",
      "metadata": {
        "id": "Z1KNtqhZ-qIx",
        "colab": {
          "base_uri": "https://localhost:8080/",
          "height": 297
        },
        "outputId": "39834e1e-68cc-40b4-c367-9b133ccbbf4a"
      },
      "source": [
        "# checked the description of the data\n",
        "\n",
        "df.describe()"
      ],
      "execution_count": 9,
      "outputs": [
        {
          "output_type": "execute_result",
          "data": {
            "text/html": [
              "<div>\n",
              "<style scoped>\n",
              "    .dataframe tbody tr th:only-of-type {\n",
              "        vertical-align: middle;\n",
              "    }\n",
              "\n",
              "    .dataframe tbody tr th {\n",
              "        vertical-align: top;\n",
              "    }\n",
              "\n",
              "    .dataframe thead th {\n",
              "        text-align: right;\n",
              "    }\n",
              "</style>\n",
              "<table border=\"1\" class=\"dataframe\">\n",
              "  <thead>\n",
              "    <tr style=\"text-align: right;\">\n",
              "      <th></th>\n",
              "      <th>freq</th>\n",
              "    </tr>\n",
              "  </thead>\n",
              "  <tbody>\n",
              "    <tr>\n",
              "      <th>count</th>\n",
              "      <td>1.450933e+06</td>\n",
              "    </tr>\n",
              "    <tr>\n",
              "      <th>mean</th>\n",
              "      <td>3.187149e+00</td>\n",
              "    </tr>\n",
              "    <tr>\n",
              "      <th>std</th>\n",
              "      <td>7.051664e+00</td>\n",
              "    </tr>\n",
              "    <tr>\n",
              "      <th>min</th>\n",
              "      <td>1.000000e+00</td>\n",
              "    </tr>\n",
              "    <tr>\n",
              "      <th>25%</th>\n",
              "      <td>1.000000e+00</td>\n",
              "    </tr>\n",
              "    <tr>\n",
              "      <th>50%</th>\n",
              "      <td>1.000000e+00</td>\n",
              "    </tr>\n",
              "    <tr>\n",
              "      <th>75%</th>\n",
              "      <td>3.000000e+00</td>\n",
              "    </tr>\n",
              "    <tr>\n",
              "      <th>max</th>\n",
              "      <td>9.230000e+02</td>\n",
              "    </tr>\n",
              "  </tbody>\n",
              "</table>\n",
              "</div>"
            ],
            "text/plain": [
              "               freq\n",
              "count  1.450933e+06\n",
              "mean   3.187149e+00\n",
              "std    7.051664e+00\n",
              "min    1.000000e+00\n",
              "25%    1.000000e+00\n",
              "50%    1.000000e+00\n",
              "75%    3.000000e+00\n",
              "max    9.230000e+02"
            ]
          },
          "metadata": {
            "tags": []
          },
          "execution_count": 9
        }
      ]
    },
    {
      "cell_type": "code",
      "metadata": {
        "colab": {
          "base_uri": "https://localhost:8080/",
          "height": 173
        },
        "id": "X170UwQAvFMe",
        "outputId": "1eb80c0c-8ff9-4024-f563-e92313694aa9"
      },
      "source": [
        "# description of categorical column \n",
        "df.describe(include=\"object\")"
      ],
      "execution_count": 10,
      "outputs": [
        {
          "output_type": "execute_result",
          "data": {
            "text/html": [
              "<div>\n",
              "<style scoped>\n",
              "    .dataframe tbody tr th:only-of-type {\n",
              "        vertical-align: middle;\n",
              "    }\n",
              "\n",
              "    .dataframe tbody tr th {\n",
              "        vertical-align: top;\n",
              "    }\n",
              "\n",
              "    .dataframe thead th {\n",
              "        text-align: right;\n",
              "    }\n",
              "</style>\n",
              "<table border=\"1\" class=\"dataframe\">\n",
              "  <thead>\n",
              "    <tr style=\"text-align: right;\">\n",
              "      <th></th>\n",
              "      <th>user_id</th>\n",
              "      <th>song_id</th>\n",
              "    </tr>\n",
              "  </thead>\n",
              "  <tbody>\n",
              "    <tr>\n",
              "      <th>count</th>\n",
              "      <td>1450933</td>\n",
              "      <td>1450933</td>\n",
              "    </tr>\n",
              "    <tr>\n",
              "      <th>unique</th>\n",
              "      <td>110000</td>\n",
              "      <td>163206</td>\n",
              "    </tr>\n",
              "    <tr>\n",
              "      <th>top</th>\n",
              "      <td>7d90be8dfdbde170f036ce8a4b915440137cb11c</td>\n",
              "      <td>SOFRQTD12A81C233C0</td>\n",
              "    </tr>\n",
              "    <tr>\n",
              "      <th>freq</th>\n",
              "      <td>53</td>\n",
              "      <td>5043</td>\n",
              "    </tr>\n",
              "  </tbody>\n",
              "</table>\n",
              "</div>"
            ],
            "text/plain": [
              "                                         user_id             song_id\n",
              "count                                    1450933             1450933\n",
              "unique                                    110000              163206\n",
              "top     7d90be8dfdbde170f036ce8a4b915440137cb11c  SOFRQTD12A81C233C0\n",
              "freq                                          53                5043"
            ]
          },
          "metadata": {
            "tags": []
          },
          "execution_count": 10
        }
      ]
    },
    {
      "cell_type": "code",
      "metadata": {
        "id": "hS-ANetHMUCX"
      },
      "source": [
        "unique=pd.read_csv(\"/content/drive/MyDrive/kaggle/unique_tracks.txt\",sep='<SEP>',\n",
        "                   names=[\"track_id\",\"song_id\",\"artist_name\",\"release\"])"
      ],
      "execution_count": 11,
      "outputs": []
    },
    {
      "cell_type": "code",
      "metadata": {
        "id": "jnzYQ-TgM7dE",
        "colab": {
          "base_uri": "https://localhost:8080/",
          "height": 204
        },
        "outputId": "795dff95-5466-4071-f74d-7b91461fff09"
      },
      "source": [
        "unique.head(5)"
      ],
      "execution_count": 12,
      "outputs": [
        {
          "output_type": "execute_result",
          "data": {
            "text/html": [
              "<div>\n",
              "<style scoped>\n",
              "    .dataframe tbody tr th:only-of-type {\n",
              "        vertical-align: middle;\n",
              "    }\n",
              "\n",
              "    .dataframe tbody tr th {\n",
              "        vertical-align: top;\n",
              "    }\n",
              "\n",
              "    .dataframe thead th {\n",
              "        text-align: right;\n",
              "    }\n",
              "</style>\n",
              "<table border=\"1\" class=\"dataframe\">\n",
              "  <thead>\n",
              "    <tr style=\"text-align: right;\">\n",
              "      <th></th>\n",
              "      <th>track_id</th>\n",
              "      <th>song_id</th>\n",
              "      <th>artist_name</th>\n",
              "      <th>release</th>\n",
              "    </tr>\n",
              "  </thead>\n",
              "  <tbody>\n",
              "    <tr>\n",
              "      <th>0</th>\n",
              "      <td>TRMMMYQ128F932D901</td>\n",
              "      <td>SOQMMHC12AB0180CB8</td>\n",
              "      <td>Faster Pussy cat</td>\n",
              "      <td>Silent Night</td>\n",
              "    </tr>\n",
              "    <tr>\n",
              "      <th>1</th>\n",
              "      <td>TRMMMKD128F425225D</td>\n",
              "      <td>SOVFVAK12A8C1350D9</td>\n",
              "      <td>Karkkiautomaatti</td>\n",
              "      <td>Tanssi vaan</td>\n",
              "    </tr>\n",
              "    <tr>\n",
              "      <th>2</th>\n",
              "      <td>TRMMMRX128F93187D9</td>\n",
              "      <td>SOGTUKN12AB017F4F1</td>\n",
              "      <td>Hudson Mohawke</td>\n",
              "      <td>No One Could Ever</td>\n",
              "    </tr>\n",
              "    <tr>\n",
              "      <th>3</th>\n",
              "      <td>TRMMMCH128F425532C</td>\n",
              "      <td>SOBNYVR12A8C13558C</td>\n",
              "      <td>Yerba Brava</td>\n",
              "      <td>Si Vos Querés</td>\n",
              "    </tr>\n",
              "    <tr>\n",
              "      <th>4</th>\n",
              "      <td>TRMMMWA128F426B589</td>\n",
              "      <td>SOHSBXH12A8C13B0DF</td>\n",
              "      <td>Der Mystic</td>\n",
              "      <td>Tangle Of Aspens</td>\n",
              "    </tr>\n",
              "  </tbody>\n",
              "</table>\n",
              "</div>"
            ],
            "text/plain": [
              "             track_id             song_id       artist_name            release\n",
              "0  TRMMMYQ128F932D901  SOQMMHC12AB0180CB8  Faster Pussy cat       Silent Night\n",
              "1  TRMMMKD128F425225D  SOVFVAK12A8C1350D9  Karkkiautomaatti        Tanssi vaan\n",
              "2  TRMMMRX128F93187D9  SOGTUKN12AB017F4F1    Hudson Mohawke  No One Could Ever\n",
              "3  TRMMMCH128F425532C  SOBNYVR12A8C13558C       Yerba Brava      Si Vos Querés\n",
              "4  TRMMMWA128F426B589  SOHSBXH12A8C13B0DF        Der Mystic   Tangle Of Aspens"
            ]
          },
          "metadata": {
            "tags": []
          },
          "execution_count": 12
        }
      ]
    },
    {
      "cell_type": "code",
      "metadata": {
        "id": "wq7OttoQM-6e",
        "colab": {
          "base_uri": "https://localhost:8080/"
        },
        "outputId": "2cd3d187-df15-495c-ae20-cf0d1902c729"
      },
      "source": [
        "unique.shape"
      ],
      "execution_count": 13,
      "outputs": [
        {
          "output_type": "execute_result",
          "data": {
            "text/plain": [
              "(1000000, 4)"
            ]
          },
          "metadata": {
            "tags": []
          },
          "execution_count": 13
        }
      ]
    },
    {
      "cell_type": "markdown",
      "metadata": {
        "id": "1AyGpxhbx-oM"
      },
      "source": [
        "## EXPLORATORY DATA ANALYSIS (EDA):"
      ]
    },
    {
      "cell_type": "markdown",
      "metadata": {
        "id": "DvAlDaloAGbj"
      },
      "source": [
        "# Checking missing and duplicates values"
      ]
    },
    {
      "cell_type": "code",
      "metadata": {
        "id": "0MhPxxmYPxO1",
        "colab": {
          "base_uri": "https://localhost:8080/"
        },
        "outputId": "08dc48d4-8b10-49ab-f357-6c12621723da"
      },
      "source": [
        "missing_valuse=df.isnull().sum()\n",
        "print(missing_valuse)"
      ],
      "execution_count": 14,
      "outputs": [
        {
          "output_type": "stream",
          "text": [
            "user_id    0\n",
            "song_id    0\n",
            "freq       0\n",
            "dtype: int64\n"
          ],
          "name": "stdout"
        }
      ]
    },
    {
      "cell_type": "code",
      "metadata": {
        "id": "fFzESpfXA_C2",
        "colab": {
          "base_uri": "https://localhost:8080/"
        },
        "outputId": "49854e8c-965c-4fb0-fe45-60ea3c302b9d"
      },
      "source": [
        "missing_valuse1=unique.isnull().sum()\n",
        "print(missing_valuse1)"
      ],
      "execution_count": 15,
      "outputs": [
        {
          "output_type": "stream",
          "text": [
            "track_id        0\n",
            "song_id         0\n",
            "artist_name     0\n",
            "release        15\n",
            "dtype: int64\n"
          ],
          "name": "stdout"
        }
      ]
    },
    {
      "cell_type": "code",
      "metadata": {
        "id": "2BMm2wqJvhhp"
      },
      "source": [
        "# observations:\n",
        "\n",
        "# 1) there is no null values present in triplets data\n",
        "# 2) 15 null values are present in unique datas"
      ],
      "execution_count": 16,
      "outputs": []
    },
    {
      "cell_type": "code",
      "metadata": {
        "id": "mP9PSAP5tK2V"
      },
      "source": [
        "# dropping the nan values from unique datas\n",
        "unique.dropna(how='any',inplace=True)"
      ],
      "execution_count": 17,
      "outputs": []
    },
    {
      "cell_type": "code",
      "metadata": {
        "id": "JzJbHqaPubMs",
        "colab": {
          "base_uri": "https://localhost:8080/"
        },
        "outputId": "19096c9c-8d5b-4ee1-a1cc-d362b042657c"
      },
      "source": [
        "unique.isnull().sum()"
      ],
      "execution_count": 18,
      "outputs": [
        {
          "output_type": "execute_result",
          "data": {
            "text/plain": [
              "track_id       0\n",
              "song_id        0\n",
              "artist_name    0\n",
              "release        0\n",
              "dtype: int64"
            ]
          },
          "metadata": {
            "tags": []
          },
          "execution_count": 18
        }
      ]
    },
    {
      "cell_type": "code",
      "metadata": {
        "id": "XInJsypCuh_b",
        "colab": {
          "base_uri": "https://localhost:8080/"
        },
        "outputId": "534df5ff-f37b-461c-91a7-ec3141ba09de"
      },
      "source": [
        "# after dropping the null values , the shape of the dataframe is :\n",
        "unique.shape"
      ],
      "execution_count": 19,
      "outputs": [
        {
          "output_type": "execute_result",
          "data": {
            "text/plain": [
              "(999985, 4)"
            ]
          },
          "metadata": {
            "tags": []
          },
          "execution_count": 19
        }
      ]
    },
    {
      "cell_type": "code",
      "metadata": {
        "id": "Fu4rQFwcT7fe",
        "colab": {
          "base_uri": "https://localhost:8080/"
        },
        "outputId": "cc8de0d3-f9ab-4e11-998f-3e01c138d784"
      },
      "source": [
        "duplicated=df.duplicated()\n",
        "print(sum(duplicated))"
      ],
      "execution_count": 20,
      "outputs": [
        {
          "output_type": "stream",
          "text": [
            "0\n"
          ],
          "name": "stdout"
        }
      ]
    },
    {
      "cell_type": "code",
      "metadata": {
        "id": "8Hcn-CgikQ8k",
        "colab": {
          "base_uri": "https://localhost:8080/"
        },
        "outputId": "1e6fb33b-8f84-4a5c-fc94-df0a57e1671f"
      },
      "source": [
        "duplicated_unique=unique.duplicated()\n",
        "print(sum(duplicated_unique))"
      ],
      "execution_count": 21,
      "outputs": [
        {
          "output_type": "stream",
          "text": [
            "0\n"
          ],
          "name": "stdout"
        }
      ]
    },
    {
      "cell_type": "code",
      "metadata": {
        "id": "e7yzFh8JlDoF",
        "colab": {
          "base_uri": "https://localhost:8080/"
        },
        "outputId": "a0240f72-9a30-41bd-c623-03794affe6f8"
      },
      "source": [
        "duplicated=unique['song_id'].duplicated()\n",
        "print(sum(duplicated))"
      ],
      "execution_count": 22,
      "outputs": [
        {
          "output_type": "stream",
          "text": [
            "944\n"
          ],
          "name": "stdout"
        }
      ]
    },
    {
      "cell_type": "code",
      "metadata": {
        "id": "8NdZpWl9lhZ9"
      },
      "source": [
        "# DROPPING THE DUPLICATES ITEMS FROM SONG_ID\n",
        "\n",
        "unique.drop_duplicates(subset='song_id',keep='first',inplace=True)"
      ],
      "execution_count": 23,
      "outputs": []
    },
    {
      "cell_type": "code",
      "metadata": {
        "id": "RaiLeWhmxsN9",
        "colab": {
          "base_uri": "https://localhost:8080/"
        },
        "outputId": "ed5a5271-b834-4b19-d709-2597e2df1c43"
      },
      "source": [
        "duplicated=unique['song_id'].duplicated()\n",
        "print(sum(duplicated))"
      ],
      "execution_count": 24,
      "outputs": [
        {
          "output_type": "stream",
          "text": [
            "0\n"
          ],
          "name": "stdout"
        }
      ]
    },
    {
      "cell_type": "markdown",
      "metadata": {
        "id": "e5Zf4AEO0mmh"
      },
      "source": [
        "# Merging the dataframes"
      ]
    },
    {
      "cell_type": "code",
      "metadata": {
        "id": "ia1Muktg0OBV"
      },
      "source": [
        "final_data=pd.merge(df,unique,how='left',on='song_id')"
      ],
      "execution_count": 25,
      "outputs": []
    },
    {
      "cell_type": "code",
      "metadata": {
        "id": "fryEV_Z01k1H",
        "colab": {
          "base_uri": "https://localhost:8080/",
          "height": 238
        },
        "outputId": "11381fdf-c3c0-4e24-ef4e-e529f0e23422"
      },
      "source": [
        "final_data.head(5)"
      ],
      "execution_count": 26,
      "outputs": [
        {
          "output_type": "execute_result",
          "data": {
            "text/html": [
              "<div>\n",
              "<style scoped>\n",
              "    .dataframe tbody tr th:only-of-type {\n",
              "        vertical-align: middle;\n",
              "    }\n",
              "\n",
              "    .dataframe tbody tr th {\n",
              "        vertical-align: top;\n",
              "    }\n",
              "\n",
              "    .dataframe thead th {\n",
              "        text-align: right;\n",
              "    }\n",
              "</style>\n",
              "<table border=\"1\" class=\"dataframe\">\n",
              "  <thead>\n",
              "    <tr style=\"text-align: right;\">\n",
              "      <th></th>\n",
              "      <th>user_id</th>\n",
              "      <th>song_id</th>\n",
              "      <th>freq</th>\n",
              "      <th>track_id</th>\n",
              "      <th>artist_name</th>\n",
              "      <th>release</th>\n",
              "    </tr>\n",
              "  </thead>\n",
              "  <tbody>\n",
              "    <tr>\n",
              "      <th>0</th>\n",
              "      <td>fd50c4007b68a3737fe052d5a4f78ce8aa117f3d</td>\n",
              "      <td>SOBONKR12A58A7A7E0</td>\n",
              "      <td>1</td>\n",
              "      <td>TRAEHHJ12903CF492F</td>\n",
              "      <td>Dwight Yoakam</td>\n",
              "      <td>You're The One</td>\n",
              "    </tr>\n",
              "    <tr>\n",
              "      <th>1</th>\n",
              "      <td>fd50c4007b68a3737fe052d5a4f78ce8aa117f3d</td>\n",
              "      <td>SOEGIYH12A6D4FC0E3</td>\n",
              "      <td>1</td>\n",
              "      <td>TRLGMFJ128F4217DBE</td>\n",
              "      <td>Barry Tuckwell/Academy of St Martin-in-the-Fie...</td>\n",
              "      <td>Horn Concerto No. 4 in E flat K495: II. Romanc...</td>\n",
              "    </tr>\n",
              "    <tr>\n",
              "      <th>2</th>\n",
              "      <td>fd50c4007b68a3737fe052d5a4f78ce8aa117f3d</td>\n",
              "      <td>SOFLJQZ12A6D4FADA6</td>\n",
              "      <td>1</td>\n",
              "      <td>TRTNDNE128F1486812</td>\n",
              "      <td>Cartola</td>\n",
              "      <td>Tive Sim</td>\n",
              "    </tr>\n",
              "    <tr>\n",
              "      <th>3</th>\n",
              "      <td>fd50c4007b68a3737fe052d5a4f78ce8aa117f3d</td>\n",
              "      <td>SOHTKMO12AB01843B0</td>\n",
              "      <td>1</td>\n",
              "      <td>TRASTUE128F930D488</td>\n",
              "      <td>Lonnie Gordon</td>\n",
              "      <td>Catch You Baby (Steve Pitron &amp; Max Sanna Radio...</td>\n",
              "    </tr>\n",
              "    <tr>\n",
              "      <th>4</th>\n",
              "      <td>fd50c4007b68a3737fe052d5a4f78ce8aa117f3d</td>\n",
              "      <td>SODQZCY12A6D4F9D11</td>\n",
              "      <td>1</td>\n",
              "      <td>TRFPLWO128F1486B9E</td>\n",
              "      <td>Miguel Calo</td>\n",
              "      <td>El Cuatrero</td>\n",
              "    </tr>\n",
              "  </tbody>\n",
              "</table>\n",
              "</div>"
            ],
            "text/plain": [
              "                                    user_id  ...                                            release\n",
              "0  fd50c4007b68a3737fe052d5a4f78ce8aa117f3d  ...                                     You're The One\n",
              "1  fd50c4007b68a3737fe052d5a4f78ce8aa117f3d  ...  Horn Concerto No. 4 in E flat K495: II. Romanc...\n",
              "2  fd50c4007b68a3737fe052d5a4f78ce8aa117f3d  ...                                           Tive Sim\n",
              "3  fd50c4007b68a3737fe052d5a4f78ce8aa117f3d  ...  Catch You Baby (Steve Pitron & Max Sanna Radio...\n",
              "4  fd50c4007b68a3737fe052d5a4f78ce8aa117f3d  ...                                        El Cuatrero\n",
              "\n",
              "[5 rows x 6 columns]"
            ]
          },
          "metadata": {
            "tags": []
          },
          "execution_count": 26
        }
      ]
    },
    {
      "cell_type": "code",
      "metadata": {
        "colab": {
          "base_uri": "https://localhost:8080/"
        },
        "id": "I8ddCwXdYVTq",
        "outputId": "e28daf15-3a81-41b1-e572-97b5648204cb"
      },
      "source": [
        "final_data['freq'].unique()"
      ],
      "execution_count": 27,
      "outputs": [
        {
          "output_type": "execute_result",
          "data": {
            "text/plain": [
              "array([  1,   2,  15,   4,   3,  14,  10,   6,  54,   5,  11,   8,   9,\n",
              "         7,  13,  38,  16,  31,  24,  12,  18,  17,  20,  23,  43,  62,\n",
              "        26,  42,  25,  37,  29,  89,  79,  19,  59,  21,  27,  33,  36,\n",
              "        28,  65,  53,  30,  22,  73,  70,  40,  46, 125,  48, 150,  34,\n",
              "       241, 214,  32,  75,  72,  76,  57,  52,  55,  63,  58,  82,  49,\n",
              "        35,  39,  56,  50, 126,  86,  71,  47, 113,  60, 118,  61,  45,\n",
              "       106,  41,  69, 281, 130, 384, 163, 111, 123,  44, 107, 180, 162,\n",
              "       188,  80, 155,  78,  68, 290, 191,  84, 173, 212, 213, 244, 102,\n",
              "        88, 103,  66,  64,  51, 101, 166, 181,  96, 201, 220,  94,  90,\n",
              "        81,  85, 112,  87,  91, 194, 124,  99, 122, 114,  74,  95,  98,\n",
              "        92, 144, 139, 116,  77, 105, 145, 355, 104, 140,  67, 245, 117,\n",
              "       110, 203, 196, 108, 256, 195, 354, 132, 226, 450, 128, 270, 100,\n",
              "        93, 261, 133, 148, 119, 175, 146,  83, 259, 151, 478, 161, 202,\n",
              "       221, 345, 164, 127, 138, 240, 230, 129, 109, 136, 207, 197, 154,\n",
              "       137, 142, 147, 209, 291, 500, 476, 158, 156, 159, 143, 170, 121,\n",
              "       165, 206, 153,  97, 169, 222, 115, 217, 183, 253, 372, 299, 134,\n",
              "       192, 276, 176, 193, 282, 167, 135, 211, 340, 160, 189, 200, 269,\n",
              "       120, 229, 141, 267, 275, 535, 168, 268, 335, 218, 307, 131, 423,\n",
              "       157, 204, 597, 294, 190, 255, 246, 171, 426, 152, 324, 178, 174,\n",
              "       177, 273, 257, 227, 537, 179, 234, 317, 242, 348, 232, 433, 233,\n",
              "       297, 250, 149, 237, 323, 308, 646, 454, 184, 391, 351, 187, 231,\n",
              "       264, 219, 283, 215, 186, 198, 185, 216, 445, 239, 402, 172, 236,\n",
              "       463, 262, 329, 582, 199, 228, 374, 311, 274, 265, 446, 389, 923])"
            ]
          },
          "metadata": {
            "tags": []
          },
          "execution_count": 27
        }
      ]
    },
    {
      "cell_type": "code",
      "metadata": {
        "id": "BUxv1_WO1n4m",
        "colab": {
          "base_uri": "https://localhost:8080/"
        },
        "outputId": "351f1bed-b777-4bcd-cdb5-a3bdd1127b97"
      },
      "source": [
        "final_data.shape"
      ],
      "execution_count": 28,
      "outputs": [
        {
          "output_type": "execute_result",
          "data": {
            "text/plain": [
              "(1450933, 6)"
            ]
          },
          "metadata": {
            "tags": []
          },
          "execution_count": 28
        }
      ]
    },
    {
      "cell_type": "code",
      "metadata": {
        "id": "Ws_Sx_HW12mR",
        "colab": {
          "base_uri": "https://localhost:8080/"
        },
        "outputId": "6635ecef-e1a1-439c-de8a-f0bf9a0a1325"
      },
      "source": [
        "# CHECKING THE NULL VALUES:\n",
        "\n",
        "final_data.isnull().sum()"
      ],
      "execution_count": 29,
      "outputs": [
        {
          "output_type": "execute_result",
          "data": {
            "text/plain": [
              "user_id        0\n",
              "song_id        0\n",
              "freq           0\n",
              "track_id       1\n",
              "artist_name    1\n",
              "release        1\n",
              "dtype: int64"
            ]
          },
          "metadata": {
            "tags": []
          },
          "execution_count": 29
        }
      ]
    },
    {
      "cell_type": "code",
      "metadata": {
        "id": "fMufp8Ih1-D-"
      },
      "source": [
        "final_data.dropna(how='any',inplace=True)     # DROPPING THE NULL VALUES"
      ],
      "execution_count": 30,
      "outputs": []
    },
    {
      "cell_type": "code",
      "metadata": {
        "id": "ulW_JLA_2HpH",
        "colab": {
          "base_uri": "https://localhost:8080/"
        },
        "outputId": "00b84b33-f98f-4a67-b18e-843214eb147b"
      },
      "source": [
        "final_data.isnull().sum()"
      ],
      "execution_count": 31,
      "outputs": [
        {
          "output_type": "execute_result",
          "data": {
            "text/plain": [
              "user_id        0\n",
              "song_id        0\n",
              "freq           0\n",
              "track_id       0\n",
              "artist_name    0\n",
              "release        0\n",
              "dtype: int64"
            ]
          },
          "metadata": {
            "tags": []
          },
          "execution_count": 31
        }
      ]
    },
    {
      "cell_type": "code",
      "metadata": {
        "id": "K2ULL7Uf2LMv",
        "colab": {
          "base_uri": "https://localhost:8080/"
        },
        "outputId": "44bcd392-33a1-46a2-fa38-20ee4f84abe1"
      },
      "source": [
        "final_data.shape"
      ],
      "execution_count": 32,
      "outputs": [
        {
          "output_type": "execute_result",
          "data": {
            "text/plain": [
              "(1450932, 6)"
            ]
          },
          "metadata": {
            "tags": []
          },
          "execution_count": 32
        }
      ]
    },
    {
      "cell_type": "markdown",
      "metadata": {
        "id": "iNFgmJy52xoJ"
      },
      "source": [
        "# Basic statistics And Observations :"
      ]
    },
    {
      "cell_type": "code",
      "metadata": {
        "id": "DRxaxY072OYK",
        "colab": {
          "base_uri": "https://localhost:8080/"
        },
        "outputId": "ead8548c-3407-477c-8ce3-15123bd5be52"
      },
      "source": [
        "print('Total number of data points:',final_data.shape[0])\n",
        "print(\"Total number of user:\",final_data[\"user_id\"].unique().shape[0])\n",
        "print(\"Total number of songs:\",final_data[\"song_id\"].unique().shape[0])\n",
        "print(\"Total number of track:\",final_data[\"track_id\"].unique().shape[0])"
      ],
      "execution_count": 33,
      "outputs": [
        {
          "output_type": "stream",
          "text": [
            "Total number of data points: 1450932\n",
            "Total number of user: 110000\n",
            "Total number of songs: 163205\n",
            "Total number of track: 163205\n"
          ],
          "name": "stdout"
        }
      ]
    },
    {
      "cell_type": "code",
      "metadata": {
        "id": "be2GaoaeY2-_",
        "colab": {
          "base_uri": "https://localhost:8080/"
        },
        "outputId": "3455777c-076b-4ad1-be76-0d7dac77aa5b"
      },
      "source": [
        "print(\"Number of unique release\",final_data[\"release\"].unique().shape[0])\n",
        "print(\"Number of unique Artist\",final_data[\"artist_name\"].unique().shape[0])\n"
      ],
      "execution_count": 34,
      "outputs": [
        {
          "output_type": "stream",
          "text": [
            "Number of unique release 137622\n",
            "Number of unique Artist 28360\n"
          ],
          "name": "stdout"
        }
      ]
    },
    {
      "cell_type": "code",
      "metadata": {
        "id": "PMocAdFtaQgq",
        "colab": {
          "base_uri": "https://localhost:8080/",
          "height": 297
        },
        "outputId": "604bb19c-2eac-4c6a-aa59-78d76836f24e"
      },
      "source": [
        "# DESCRIPTION OF NUMERICAL DATA\n",
        "\n",
        "final_data.describe()"
      ],
      "execution_count": 35,
      "outputs": [
        {
          "output_type": "execute_result",
          "data": {
            "text/html": [
              "<div>\n",
              "<style scoped>\n",
              "    .dataframe tbody tr th:only-of-type {\n",
              "        vertical-align: middle;\n",
              "    }\n",
              "\n",
              "    .dataframe tbody tr th {\n",
              "        vertical-align: top;\n",
              "    }\n",
              "\n",
              "    .dataframe thead th {\n",
              "        text-align: right;\n",
              "    }\n",
              "</style>\n",
              "<table border=\"1\" class=\"dataframe\">\n",
              "  <thead>\n",
              "    <tr style=\"text-align: right;\">\n",
              "      <th></th>\n",
              "      <th>freq</th>\n",
              "    </tr>\n",
              "  </thead>\n",
              "  <tbody>\n",
              "    <tr>\n",
              "      <th>count</th>\n",
              "      <td>1.450932e+06</td>\n",
              "    </tr>\n",
              "    <tr>\n",
              "      <th>mean</th>\n",
              "      <td>3.187151e+00</td>\n",
              "    </tr>\n",
              "    <tr>\n",
              "      <th>std</th>\n",
              "      <td>7.051666e+00</td>\n",
              "    </tr>\n",
              "    <tr>\n",
              "      <th>min</th>\n",
              "      <td>1.000000e+00</td>\n",
              "    </tr>\n",
              "    <tr>\n",
              "      <th>25%</th>\n",
              "      <td>1.000000e+00</td>\n",
              "    </tr>\n",
              "    <tr>\n",
              "      <th>50%</th>\n",
              "      <td>1.000000e+00</td>\n",
              "    </tr>\n",
              "    <tr>\n",
              "      <th>75%</th>\n",
              "      <td>3.000000e+00</td>\n",
              "    </tr>\n",
              "    <tr>\n",
              "      <th>max</th>\n",
              "      <td>9.230000e+02</td>\n",
              "    </tr>\n",
              "  </tbody>\n",
              "</table>\n",
              "</div>"
            ],
            "text/plain": [
              "               freq\n",
              "count  1.450932e+06\n",
              "mean   3.187151e+00\n",
              "std    7.051666e+00\n",
              "min    1.000000e+00\n",
              "25%    1.000000e+00\n",
              "50%    1.000000e+00\n",
              "75%    3.000000e+00\n",
              "max    9.230000e+02"
            ]
          },
          "metadata": {
            "tags": []
          },
          "execution_count": 35
        }
      ]
    },
    {
      "cell_type": "code",
      "metadata": {
        "colab": {
          "base_uri": "https://localhost:8080/",
          "height": 173
        },
        "id": "7P6JdQnYy1cF",
        "outputId": "3f5dcc15-9af2-4a5d-fa39-77a2e3a41050"
      },
      "source": [
        "# DESCRIPTION OF CATEGORICAL DATA:\n",
        "\n",
        "final_data.describe(include=\"object\")"
      ],
      "execution_count": 36,
      "outputs": [
        {
          "output_type": "execute_result",
          "data": {
            "text/html": [
              "<div>\n",
              "<style scoped>\n",
              "    .dataframe tbody tr th:only-of-type {\n",
              "        vertical-align: middle;\n",
              "    }\n",
              "\n",
              "    .dataframe tbody tr th {\n",
              "        vertical-align: top;\n",
              "    }\n",
              "\n",
              "    .dataframe thead th {\n",
              "        text-align: right;\n",
              "    }\n",
              "</style>\n",
              "<table border=\"1\" class=\"dataframe\">\n",
              "  <thead>\n",
              "    <tr style=\"text-align: right;\">\n",
              "      <th></th>\n",
              "      <th>user_id</th>\n",
              "      <th>song_id</th>\n",
              "      <th>track_id</th>\n",
              "      <th>artist_name</th>\n",
              "      <th>release</th>\n",
              "    </tr>\n",
              "  </thead>\n",
              "  <tbody>\n",
              "    <tr>\n",
              "      <th>count</th>\n",
              "      <td>1450932</td>\n",
              "      <td>1450932</td>\n",
              "      <td>1450932</td>\n",
              "      <td>1450932</td>\n",
              "      <td>1450932</td>\n",
              "    </tr>\n",
              "    <tr>\n",
              "      <th>unique</th>\n",
              "      <td>110000</td>\n",
              "      <td>163205</td>\n",
              "      <td>163205</td>\n",
              "      <td>28360</td>\n",
              "      <td>137622</td>\n",
              "    </tr>\n",
              "    <tr>\n",
              "      <th>top</th>\n",
              "      <td>7d90be8dfdbde170f036ce8a4b915440137cb11c</td>\n",
              "      <td>SOFRQTD12A81C233C0</td>\n",
              "      <td>TRDMBIJ128F4290431</td>\n",
              "      <td>Coldplay</td>\n",
              "      <td>Sehr kosmisch</td>\n",
              "    </tr>\n",
              "    <tr>\n",
              "      <th>freq</th>\n",
              "      <td>53</td>\n",
              "      <td>5043</td>\n",
              "      <td>5043</td>\n",
              "      <td>12279</td>\n",
              "      <td>5043</td>\n",
              "    </tr>\n",
              "  </tbody>\n",
              "</table>\n",
              "</div>"
            ],
            "text/plain": [
              "                                         user_id  ...        release\n",
              "count                                    1450932  ...        1450932\n",
              "unique                                    110000  ...         137622\n",
              "top     7d90be8dfdbde170f036ce8a4b915440137cb11c  ...  Sehr kosmisch\n",
              "freq                                          53  ...           5043\n",
              "\n",
              "[4 rows x 5 columns]"
            ]
          },
          "metadata": {
            "tags": []
          },
          "execution_count": 36
        }
      ]
    },
    {
      "cell_type": "markdown",
      "metadata": {
        "id": "0ZQP9rdnaj05"
      },
      "source": [
        "# Distribution of frequency"
      ]
    },
    {
      "cell_type": "code",
      "metadata": {
        "colab": {
          "base_uri": "https://localhost:8080/",
          "height": 497
        },
        "id": "lpZkeXWhXZPb",
        "outputId": "4ce1b12b-4778-465d-e210-f0809acde5fc"
      },
      "source": [
        "plt.figure(figsize=(10,8))\n",
        "sns.distplot(final_data['freq'],hist=False,color='lime')\n",
        "plt.show()"
      ],
      "execution_count": 37,
      "outputs": [
        {
          "output_type": "display_data",
          "data": {
            "image/png": "[encoded data removed]",
            "text/plain": [
              "<Figure size 720x576 with 1 Axes>"
            ]
          },
          "metadata": {
            "tags": [],
            "needs_background": "light"
          }
        }
      ]
    },
    {
      "cell_type": "code",
      "metadata": {
        "id": "yKSK2x4WzfhC"
      },
      "source": [
        "# THE ABOVE DISTRIBUTIONS SHOWS THAT THE SONGS WHICH WAS HEARD MOST NUMBER OF TIME HAS THE FREQUENCY VALUES BETWEEN 1 T0 50 ALMOST"
      ],
      "execution_count": 38,
      "outputs": []
    },
    {
      "cell_type": "markdown",
      "metadata": {
        "id": "470kpe1rbgh_"
      },
      "source": [
        "# frequency of each song"
      ]
    },
    {
      "cell_type": "code",
      "metadata": {
        "id": "qmrNoJ-yZwrk"
      },
      "source": [
        "song_counts=final_data.groupby([\"song_id\"]).agg({\"freq\":\"count\"}).reset_index()"
      ],
      "execution_count": 39,
      "outputs": []
    },
    {
      "cell_type": "code",
      "metadata": {
        "colab": {
          "base_uri": "https://localhost:8080/",
          "height": 204
        },
        "id": "FGMRlFySfhGv",
        "outputId": "1deb3723-33a9-43e8-ee5b-199912e4569a"
      },
      "source": [
        "song_counts.head()"
      ],
      "execution_count": 40,
      "outputs": [
        {
          "output_type": "execute_result",
          "data": {
            "text/html": [
              "<div>\n",
              "<style scoped>\n",
              "    .dataframe tbody tr th:only-of-type {\n",
              "        vertical-align: middle;\n",
              "    }\n",
              "\n",
              "    .dataframe tbody tr th {\n",
              "        vertical-align: top;\n",
              "    }\n",
              "\n",
              "    .dataframe thead th {\n",
              "        text-align: right;\n",
              "    }\n",
              "</style>\n",
              "<table border=\"1\" class=\"dataframe\">\n",
              "  <thead>\n",
              "    <tr style=\"text-align: right;\">\n",
              "      <th></th>\n",
              "      <th>song_id</th>\n",
              "      <th>freq</th>\n",
              "    </tr>\n",
              "  </thead>\n",
              "  <tbody>\n",
              "    <tr>\n",
              "      <th>0</th>\n",
              "      <td>SOAAAFI12A6D4F9C66</td>\n",
              "      <td>2</td>\n",
              "    </tr>\n",
              "    <tr>\n",
              "      <th>1</th>\n",
              "      <td>SOAAAGK12AB0189572</td>\n",
              "      <td>1</td>\n",
              "    </tr>\n",
              "    <tr>\n",
              "      <th>2</th>\n",
              "      <td>SOAAAGQ12A8C1420C8</td>\n",
              "      <td>33</td>\n",
              "    </tr>\n",
              "    <tr>\n",
              "      <th>3</th>\n",
              "      <td>SOAAAMT12AB018C9C4</td>\n",
              "      <td>1</td>\n",
              "    </tr>\n",
              "    <tr>\n",
              "      <th>4</th>\n",
              "      <td>SOAAAQN12AB01856D3</td>\n",
              "      <td>2</td>\n",
              "    </tr>\n",
              "  </tbody>\n",
              "</table>\n",
              "</div>"
            ],
            "text/plain": [
              "              song_id  freq\n",
              "0  SOAAAFI12A6D4F9C66     2\n",
              "1  SOAAAGK12AB0189572     1\n",
              "2  SOAAAGQ12A8C1420C8    33\n",
              "3  SOAAAMT12AB018C9C4     1\n",
              "4  SOAAAQN12AB01856D3     2"
            ]
          },
          "metadata": {
            "tags": []
          },
          "execution_count": 40
        }
      ]
    },
    {
      "cell_type": "code",
      "metadata": {
        "colab": {
          "base_uri": "https://localhost:8080/",
          "height": 204
        },
        "id": "fX556z4Ng4Fb",
        "outputId": "8996c319-6ca7-4d5d-bee2-8a25a6ed5f4b"
      },
      "source": [
        "# SORTING THE FREQUENCY OF SONG_ID IN DESCINDING ORDER:\n",
        "\n",
        "song_counts.sort_values(by=\"freq\",ascending=False).head()"
      ],
      "execution_count": 41,
      "outputs": [
        {
          "output_type": "execute_result",
          "data": {
            "text/html": [
              "<div>\n",
              "<style scoped>\n",
              "    .dataframe tbody tr th:only-of-type {\n",
              "        vertical-align: middle;\n",
              "    }\n",
              "\n",
              "    .dataframe tbody tr th {\n",
              "        vertical-align: top;\n",
              "    }\n",
              "\n",
              "    .dataframe thead th {\n",
              "        text-align: right;\n",
              "    }\n",
              "</style>\n",
              "<table border=\"1\" class=\"dataframe\">\n",
              "  <thead>\n",
              "    <tr style=\"text-align: right;\">\n",
              "      <th></th>\n",
              "      <th>song_id</th>\n",
              "      <th>freq</th>\n",
              "    </tr>\n",
              "  </thead>\n",
              "  <tbody>\n",
              "    <tr>\n",
              "      <th>38185</th>\n",
              "      <td>SOFRQTD12A81C233C0</td>\n",
              "      <td>5043</td>\n",
              "    </tr>\n",
              "    <tr>\n",
              "      <th>5478</th>\n",
              "      <td>SOAUWYT12A81C206F1</td>\n",
              "      <td>4483</td>\n",
              "    </tr>\n",
              "    <tr>\n",
              "      <th>10546</th>\n",
              "      <td>SOBONKR12A58A7A7E0</td>\n",
              "      <td>4136</td>\n",
              "    </tr>\n",
              "    <tr>\n",
              "      <th>6096</th>\n",
              "      <td>SOAXGDH12A8C13F8A1</td>\n",
              "      <td>3780</td>\n",
              "    </tr>\n",
              "    <tr>\n",
              "      <th>121599</th>\n",
              "      <td>SOSXLTC12AF72A7F54</td>\n",
              "      <td>3672</td>\n",
              "    </tr>\n",
              "  </tbody>\n",
              "</table>\n",
              "</div>"
            ],
            "text/plain": [
              "                   song_id  freq\n",
              "38185   SOFRQTD12A81C233C0  5043\n",
              "5478    SOAUWYT12A81C206F1  4483\n",
              "10546   SOBONKR12A58A7A7E0  4136\n",
              "6096    SOAXGDH12A8C13F8A1  3780\n",
              "121599  SOSXLTC12AF72A7F54  3672"
            ]
          },
          "metadata": {
            "tags": []
          },
          "execution_count": 41
        }
      ]
    },
    {
      "cell_type": "markdown",
      "metadata": {
        "id": "HNpu70BaiUJu"
      },
      "source": [
        "## number of songs listened per user"
      ]
    },
    {
      "cell_type": "code",
      "metadata": {
        "id": "rvPn05BZf81B"
      },
      "source": [
        "user_count=final_data.groupby([\"user_id\"]).agg({\"freq\":\"count\"}).reset_index()"
      ],
      "execution_count": 42,
      "outputs": []
    },
    {
      "cell_type": "code",
      "metadata": {
        "colab": {
          "base_uri": "https://localhost:8080/",
          "height": 204
        },
        "id": "1WzIsz-7gTIb",
        "outputId": "3078c28f-4b7d-4df6-e255-1023feac5f6a"
      },
      "source": [
        "user_count.head()"
      ],
      "execution_count": 43,
      "outputs": [
        {
          "output_type": "execute_result",
          "data": {
            "text/html": [
              "<div>\n",
              "<style scoped>\n",
              "    .dataframe tbody tr th:only-of-type {\n",
              "        vertical-align: middle;\n",
              "    }\n",
              "\n",
              "    .dataframe tbody tr th {\n",
              "        vertical-align: top;\n",
              "    }\n",
              "\n",
              "    .dataframe thead th {\n",
              "        text-align: right;\n",
              "    }\n",
              "</style>\n",
              "<table border=\"1\" class=\"dataframe\">\n",
              "  <thead>\n",
              "    <tr style=\"text-align: right;\">\n",
              "      <th></th>\n",
              "      <th>user_id</th>\n",
              "      <th>freq</th>\n",
              "    </tr>\n",
              "  </thead>\n",
              "  <tbody>\n",
              "    <tr>\n",
              "      <th>0</th>\n",
              "      <td>00007a02388c208ea7176479f6ae06f8224355b3</td>\n",
              "      <td>9</td>\n",
              "    </tr>\n",
              "    <tr>\n",
              "      <th>1</th>\n",
              "      <td>00014a76ed063e1a749171a253bca9d9a0ff1782</td>\n",
              "      <td>11</td>\n",
              "    </tr>\n",
              "    <tr>\n",
              "      <th>2</th>\n",
              "      <td>00015189668691680bb1a2e58afde1541ec92ced</td>\n",
              "      <td>17</td>\n",
              "    </tr>\n",
              "    <tr>\n",
              "      <th>3</th>\n",
              "      <td>0001ff7aa2667c8d8b945317b88adaed1c0b9dc2</td>\n",
              "      <td>9</td>\n",
              "    </tr>\n",
              "    <tr>\n",
              "      <th>4</th>\n",
              "      <td>00020fcd8b01986a6a85b896ccde6c49f35142ad</td>\n",
              "      <td>32</td>\n",
              "    </tr>\n",
              "  </tbody>\n",
              "</table>\n",
              "</div>"
            ],
            "text/plain": [
              "                                    user_id  freq\n",
              "0  00007a02388c208ea7176479f6ae06f8224355b3     9\n",
              "1  00014a76ed063e1a749171a253bca9d9a0ff1782    11\n",
              "2  00015189668691680bb1a2e58afde1541ec92ced    17\n",
              "3  0001ff7aa2667c8d8b945317b88adaed1c0b9dc2     9\n",
              "4  00020fcd8b01986a6a85b896ccde6c49f35142ad    32"
            ]
          },
          "metadata": {
            "tags": []
          },
          "execution_count": 43
        }
      ]
    },
    {
      "cell_type": "code",
      "metadata": {
        "colab": {
          "base_uri": "https://localhost:8080/",
          "height": 204
        },
        "id": "_RKLgqq3gWwh",
        "outputId": "36130fb4-5169-4da7-c244-94425266f8bc"
      },
      "source": [
        "# SORTING THE USER_ID WITH FREQUENCY IN DESCINDING ORDER\n",
        "user_count.sort_values(by=\"freq\",ascending=False).head()"
      ],
      "execution_count": 44,
      "outputs": [
        {
          "output_type": "execute_result",
          "data": {
            "text/html": [
              "<div>\n",
              "<style scoped>\n",
              "    .dataframe tbody tr th:only-of-type {\n",
              "        vertical-align: middle;\n",
              "    }\n",
              "\n",
              "    .dataframe tbody tr th {\n",
              "        vertical-align: top;\n",
              "    }\n",
              "\n",
              "    .dataframe thead th {\n",
              "        text-align: right;\n",
              "    }\n",
              "</style>\n",
              "<table border=\"1\" class=\"dataframe\">\n",
              "  <thead>\n",
              "    <tr style=\"text-align: right;\">\n",
              "      <th></th>\n",
              "      <th>user_id</th>\n",
              "      <th>freq</th>\n",
              "    </tr>\n",
              "  </thead>\n",
              "  <tbody>\n",
              "    <tr>\n",
              "      <th>53921</th>\n",
              "      <td>7d90be8dfdbde170f036ce8a4b915440137cb11c</td>\n",
              "      <td>53</td>\n",
              "    </tr>\n",
              "    <tr>\n",
              "      <th>90678</th>\n",
              "      <td>d30e18323f15426c3cdc8585252ed34459916f51</td>\n",
              "      <td>52</td>\n",
              "    </tr>\n",
              "    <tr>\n",
              "      <th>1597</th>\n",
              "      <td>03ad93fdb01506ce205f4708decf8e4b1ae90fff</td>\n",
              "      <td>52</td>\n",
              "    </tr>\n",
              "    <tr>\n",
              "      <th>19962</th>\n",
              "      <td>2e424b28bff1f62a2dae22a918f09f9c30c06d1b</td>\n",
              "      <td>52</td>\n",
              "    </tr>\n",
              "    <tr>\n",
              "      <th>643</th>\n",
              "      <td>016a24e91a72c159a5048ab1b9b2ba5ce761b526</td>\n",
              "      <td>52</td>\n",
              "    </tr>\n",
              "  </tbody>\n",
              "</table>\n",
              "</div>"
            ],
            "text/plain": [
              "                                        user_id  freq\n",
              "53921  7d90be8dfdbde170f036ce8a4b915440137cb11c    53\n",
              "90678  d30e18323f15426c3cdc8585252ed34459916f51    52\n",
              "1597   03ad93fdb01506ce205f4708decf8e4b1ae90fff    52\n",
              "19962  2e424b28bff1f62a2dae22a918f09f9c30c06d1b    52\n",
              "643    016a24e91a72c159a5048ab1b9b2ba5ce761b526    52"
            ]
          },
          "metadata": {
            "tags": []
          },
          "execution_count": 44
        }
      ]
    },
    {
      "cell_type": "markdown",
      "metadata": {
        "id": "52BYxuqtjD8R"
      },
      "source": [
        "## popularity of artist as per frequency:"
      ]
    },
    {
      "cell_type": "code",
      "metadata": {
        "id": "by1YgtXGi2g-"
      },
      "source": [
        "artist_popularity=final_data.groupby([\"artist_name\"]).agg({\"freq\":\"count\"}).reset_index()"
      ],
      "execution_count": 45,
      "outputs": []
    },
    {
      "cell_type": "code",
      "metadata": {
        "colab": {
          "base_uri": "https://localhost:8080/",
          "height": 204
        },
        "id": "GY0vzLtGjdgU",
        "outputId": "2b6c3f9a-de17-4a67-afcd-6d31eecc5abd"
      },
      "source": [
        "artist_popularity.tail()"
      ],
      "execution_count": 46,
      "outputs": [
        {
          "output_type": "execute_result",
          "data": {
            "text/html": [
              "<div>\n",
              "<style scoped>\n",
              "    .dataframe tbody tr th:only-of-type {\n",
              "        vertical-align: middle;\n",
              "    }\n",
              "\n",
              "    .dataframe tbody tr th {\n",
              "        vertical-align: top;\n",
              "    }\n",
              "\n",
              "    .dataframe thead th {\n",
              "        text-align: right;\n",
              "    }\n",
              "</style>\n",
              "<table border=\"1\" class=\"dataframe\">\n",
              "  <thead>\n",
              "    <tr style=\"text-align: right;\">\n",
              "      <th></th>\n",
              "      <th>artist_name</th>\n",
              "      <th>freq</th>\n",
              "    </tr>\n",
              "  </thead>\n",
              "  <tbody>\n",
              "    <tr>\n",
              "      <th>28355</th>\n",
              "      <td>Étienne Daho</td>\n",
              "      <td>45</td>\n",
              "    </tr>\n",
              "    <tr>\n",
              "      <th>28356</th>\n",
              "      <td>Íon</td>\n",
              "      <td>5</td>\n",
              "    </tr>\n",
              "    <tr>\n",
              "      <th>28357</th>\n",
              "      <td>Ólafur Arnalds</td>\n",
              "      <td>78</td>\n",
              "    </tr>\n",
              "    <tr>\n",
              "      <th>28358</th>\n",
              "      <td>Órla Fallon</td>\n",
              "      <td>1</td>\n",
              "    </tr>\n",
              "    <tr>\n",
              "      <th>28359</th>\n",
              "      <td>Özlem Tekin</td>\n",
              "      <td>1</td>\n",
              "    </tr>\n",
              "  </tbody>\n",
              "</table>\n",
              "</div>"
            ],
            "text/plain": [
              "          artist_name  freq\n",
              "28355    Étienne Daho    45\n",
              "28356             Íon     5\n",
              "28357  Ólafur Arnalds    78\n",
              "28358     Órla Fallon     1\n",
              "28359     Özlem Tekin     1"
            ]
          },
          "metadata": {
            "tags": []
          },
          "execution_count": 46
        }
      ]
    },
    {
      "cell_type": "code",
      "metadata": {
        "colab": {
          "base_uri": "https://localhost:8080/",
          "height": 204
        },
        "id": "0OnW9Qg3jVsR",
        "outputId": "94867f0b-c217-4b43-ec15-85bff7e1f51b"
      },
      "source": [
        "# SORTING THE ARTIST NAME BASED ON POPULARITY AND WHO IS HAVING HIGHEST FREQUENCY:\n",
        "\n",
        "artist_popularity.sort_values(by=\"freq\",ascending=False).head()"
      ],
      "execution_count": 47,
      "outputs": [
        {
          "output_type": "execute_result",
          "data": {
            "text/html": [
              "<div>\n",
              "<style scoped>\n",
              "    .dataframe tbody tr th:only-of-type {\n",
              "        vertical-align: middle;\n",
              "    }\n",
              "\n",
              "    .dataframe tbody tr th {\n",
              "        vertical-align: top;\n",
              "    }\n",
              "\n",
              "    .dataframe thead th {\n",
              "        text-align: right;\n",
              "    }\n",
              "</style>\n",
              "<table border=\"1\" class=\"dataframe\">\n",
              "  <thead>\n",
              "    <tr style=\"text-align: right;\">\n",
              "      <th></th>\n",
              "      <th>artist_name</th>\n",
              "      <th>freq</th>\n",
              "    </tr>\n",
              "  </thead>\n",
              "  <tbody>\n",
              "    <tr>\n",
              "      <th>5085</th>\n",
              "      <td>Coldplay</td>\n",
              "      <td>12279</td>\n",
              "    </tr>\n",
              "    <tr>\n",
              "      <th>13610</th>\n",
              "      <td>Kings Of Leon</td>\n",
              "      <td>8514</td>\n",
              "    </tr>\n",
              "    <tr>\n",
              "      <th>8801</th>\n",
              "      <td>Florence + The Machine</td>\n",
              "      <td>8213</td>\n",
              "    </tr>\n",
              "    <tr>\n",
              "      <th>12964</th>\n",
              "      <td>Justin Bieber</td>\n",
              "      <td>7669</td>\n",
              "    </tr>\n",
              "    <tr>\n",
              "      <th>11378</th>\n",
              "      <td>Jack Johnson</td>\n",
              "      <td>6784</td>\n",
              "    </tr>\n",
              "  </tbody>\n",
              "</table>\n",
              "</div>"
            ],
            "text/plain": [
              "                  artist_name   freq\n",
              "5085                 Coldplay  12279\n",
              "13610           Kings Of Leon   8514\n",
              "8801   Florence + The Machine   8213\n",
              "12964           Justin Bieber   7669\n",
              "11378            Jack Johnson   6784"
            ]
          },
          "metadata": {
            "tags": []
          },
          "execution_count": 47
        }
      ]
    },
    {
      "cell_type": "markdown",
      "metadata": {
        "id": "tQBT_eng1fWt"
      },
      "source": [
        "OBSERVATIONS OF ARTIST NAME:\n"
      ]
    },
    {
      "cell_type": "code",
      "metadata": {
        "id": "lhjjGUHt1ecr"
      },
      "source": [
        "# 1) COLD PLAY LEADING IN THE ARTIST NAME HAVING HIGHEST FREQUENCY\n",
        "#2) KINGS OF LEON HAS THE SECOND HIGHEST FREQUENCY"
      ],
      "execution_count": 48,
      "outputs": []
    },
    {
      "cell_type": "code",
      "metadata": {
        "colab": {
          "base_uri": "https://localhost:8080/",
          "height": 265
        },
        "id": "b4L5RErcnHTv",
        "outputId": "8ddeccd9-b8aa-4b1e-a107-cdb5cfd9d41c"
      },
      "source": [
        "sns.distplot(artist_popularity[\"freq\"].values,x=None,hist=False,color=\"lime\")\n",
        "plt.show()"
      ],
      "execution_count": 49,
      "outputs": [
        {
          "output_type": "display_data",
          "data": {
            "image/png": "[encoded data removed]",
            "text/plain": [
              "<Figure size 432x288 with 1 Axes>"
            ]
          },
          "metadata": {
            "tags": [],
            "needs_background": "light"
          }
        }
      ]
    },
    {
      "cell_type": "code",
      "metadata": {
        "colab": {
          "base_uri": "https://localhost:8080/"
        },
        "id": "_Ssa9hOtjh4l",
        "outputId": "0224a2ce-d24b-4400-ee0b-4779ae14fe0f"
      },
      "source": [
        "# UNIQUE RELEASES OF ARTIST NAME \" COLDPLAY\n",
        "\n",
        "final_data[\"release\"][final_data[\"artist_name\"]==\"Coldplay\"].unique()"
      ],
      "execution_count": 50,
      "outputs": [
        {
          "output_type": "execute_result",
          "data": {
            "text/plain": [
              "array(['Yellow', 'The Scientist', 'Fix You', \"Don't Panic\", 'Sparks',\n",
              "       'Clocks', 'Life In Technicolor ii', 'Such A Rush',\n",
              "       'Fix You (Live)', 'Speed Of Sound', 'Lost!',\n",
              "       'God Put A Smile Upon Your Face', 'Brothers & Sisters',\n",
              "       'A Rush Of Blood To The Head', 'Clocks (Live In Sydney)',\n",
              "       'One I Love', 'For You', 'You Only Live Twice (Live From Norway)',\n",
              "       'Shiver', 'Swallowed In The Sea', 'In My Place',\n",
              "       'Postcards From Far Away', 'Glass Of Water',\n",
              "       \"Things I Don't Understand\", 'Strawberry Swing', '42',\n",
              "       'Til Kingdom Come', 'The Goldrush', 'X & Y', 'Life In Technicolor',\n",
              "       'We Never Change', 'Bigger Stronger', 'What If', 'Trouble',\n",
              "       \"Everything's Not Lost (Includes Hidden Track 'Life Is For Living')\",\n",
              "       'Only Superstition', 'Politik', 'Careful Where You Stand',\n",
              "       'Warning Sign', 'See You Soon', 'Spies', 'Cemeteries Of London',\n",
              "       'A Whisper', 'A Message', 'Square One', 'Low', 'I Bloom Blaum',\n",
              "       'I Ran Away', 'The World Turned Upside Down',\n",
              "       'Talk (Junkie XL Remix)', 'Help Is Round The Corner', 'Daylight',\n",
              "       'Yes', 'High Speed', \"Now My Feet Won't Touch The Ground\",\n",
              "       'Twisted Logic', 'Violet Hill', 'White Shadows',\n",
              "       'See You Soon (Live In Sydney)', 'Proof', 'Amsterdam', '1.36',\n",
              "       'Shiver (Live In Sydney)',\n",
              "       \"Everything's Not Lost (Live In Sydney)\",\n",
              "       'A Rush Of Blood To The Head (Live In Sydney)',\n",
              "       'Yellow (Live In Sydney)', 'Talk (Francois K Dub)', 'Sleeping Sun',\n",
              "       'Pour Me (Live At The Hollywood Bowl)', 'Lost?',\n",
              "       'Moses (Live In Sydney)',\n",
              "       'Life In Technicolor ii (Live @ The O2_ London)',\n",
              "       'In My Place (Live In Sydney)', 'Talk (Thin White Duke Mix)',\n",
              "       'Speed Of Sound (Live)', 'Amsterdam (Live In Sydney)'],\n",
              "      dtype=object)"
            ]
          },
          "metadata": {
            "tags": []
          },
          "execution_count": 50
        }
      ]
    },
    {
      "cell_type": "code",
      "metadata": {
        "id": "heVEpUB3lZxk",
        "colab": {
          "base_uri": "https://localhost:8080/"
        },
        "outputId": "17ea559e-274b-4119-c594-dbc5e57217b2"
      },
      "source": [
        "# UNIQUE RELEASES OF ARTIST NAME \"KINGS OF LEON\"\n",
        "\n",
        "final_data[\"release\"][final_data[\"artist_name\"]==\"Kings Of Leon\"].unique()"
      ],
      "execution_count": 51,
      "outputs": [
        {
          "output_type": "execute_result",
          "data": {
            "text/plain": [
              "array(['Genius', 'Revelry', 'Use Somebody', 'Knocked Up', 'Closer',\n",
              "       \"Molly's Chambers\", 'Ragoo', 'Dusty', 'Manhattan', 'Camaro',\n",
              "       'I Want You', 'Cold Desert', 'Holy Roller Novocaine', 'Arizona',\n",
              "       'McFearless', 'Be Somebody', 'Day Old Blues', 'Rememo',\n",
              "       'Happy Alone', 'King Of The Rodeo', 'Milk', 'Pistol Of Fire',\n",
              "       'The Runner', 'Velvet Snow', \"Joe's Head\", 'Charmer',\n",
              "       'California Waiting', 'Trunk', 'Trani', 'Where Nobody Knows',\n",
              "       'Fans', 'Slow Night_ So Long', 'Soft', 'Razz', 'Taper Jean Girl',\n",
              "       'Black Thumbnail', 'Beneath The Surface', 'Frontier City',\n",
              "       'Four Kicks'], dtype=object)"
            ]
          },
          "metadata": {
            "tags": []
          },
          "execution_count": 51
        }
      ]
    },
    {
      "cell_type": "markdown",
      "metadata": {
        "id": "kYJd3GdgxGcF"
      },
      "source": [
        "## popularity based recommendation system..."
      ]
    },
    {
      "cell_type": "markdown",
      "metadata": {
        "id": "k782F8tNxnpt"
      },
      "source": [
        "As the name suggests Popularity based recommendation system works with the trend. It basically uses the items which are in trend right now. For example, if any product which is usually bought by every new user then there are chances that it may suggest that item to the user who just signed up."
      ]
    },
    {
      "cell_type": "markdown",
      "metadata": {
        "id": "XITJi-eyyOOi"
      },
      "source": [
        "![download.jpg](data:image/jpeg;base64,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)\n",
        "\n",
        "\n",
        "# kya choose kiya jaye?"
      ]
    },
    {
      "cell_type": "markdown",
      "metadata": {
        "id": "RinmSTFqzK5Y"
      },
      "source": [
        "### creating a popularity based recommendation  function:"
      ]
    },
    {
      "cell_type": "code",
      "metadata": {
        "id": "ZyXxXREJmsxf"
      },
      "source": [
        "def create_popularity_recommendation(train_data, user_id, release, n=10):\n",
        "    #Get a count of user_ids for each unique song as recommendation score\n",
        "    train_data_grouped = final_data.groupby([\"release\"]).agg({\"user_id\": 'count'}).reset_index()\n",
        "    train_data_grouped.rename(columns = {\"user_id\": 'score'},inplace=True)\n",
        "    \n",
        "    #Sort the songs based upon recommendation score\n",
        "    train_data_sort = train_data_grouped.sort_values(['score', \"release\"], ascending = [0,1])\n",
        "    \n",
        "    #Generate a recommendation rank based upon score\n",
        "    train_data_sort['Rank'] = train_data_sort.score.rank(ascending=0, method='first')\n",
        "        \n",
        "    #Get the top n recommendations\n",
        "    popularity_recommendations = train_data_sort.head(n)\n",
        "    return popularity_recommendations"
      ],
      "execution_count": 170,
      "outputs": []
    },
    {
      "cell_type": "markdown",
      "metadata": {
        "id": "U8-XRtPfzkql"
      },
      "source": [
        "# recommending top 10 releases to a new user:"
      ]
    },
    {
      "cell_type": "code",
      "metadata": {
        "colab": {
          "base_uri": "https://localhost:8080/",
          "height": 359
        },
        "id": "_A9YN-2BrYdk",
        "outputId": "25c020bd-e01a-4bb0-b5b4-4a2de9427f3c"
      },
      "source": [
        "recommendations = create_popularity_recommendation(final_data,'user_id','release', 10)\n",
        "display(recommendations)"
      ],
      "execution_count": 171,
      "outputs": [
        {
          "output_type": "display_data",
          "data": {
            "text/html": [
              "<div>\n",
              "<style scoped>\n",
              "    .dataframe tbody tr th:only-of-type {\n",
              "        vertical-align: middle;\n",
              "    }\n",
              "\n",
              "    .dataframe tbody tr th {\n",
              "        vertical-align: top;\n",
              "    }\n",
              "\n",
              "    .dataframe thead th {\n",
              "        text-align: right;\n",
              "    }\n",
              "</style>\n",
              "<table border=\"1\" class=\"dataframe\">\n",
              "  <thead>\n",
              "    <tr style=\"text-align: right;\">\n",
              "      <th></th>\n",
              "      <th>release</th>\n",
              "      <th>score</th>\n",
              "      <th>Rank</th>\n",
              "    </tr>\n",
              "  </thead>\n",
              "  <tbody>\n",
              "    <tr>\n",
              "      <th>98812</th>\n",
              "      <td>Sehr kosmisch</td>\n",
              "      <td>5043</td>\n",
              "      <td>1.0</td>\n",
              "    </tr>\n",
              "    <tr>\n",
              "      <th>125393</th>\n",
              "      <td>Undo</td>\n",
              "      <td>4483</td>\n",
              "      <td>2.0</td>\n",
              "    </tr>\n",
              "    <tr>\n",
              "      <th>136066</th>\n",
              "      <td>You're The One</td>\n",
              "      <td>4270</td>\n",
              "      <td>3.0</td>\n",
              "    </tr>\n",
              "    <tr>\n",
              "      <th>28716</th>\n",
              "      <td>Dog Days Are Over (Radio Edit)</td>\n",
              "      <td>3780</td>\n",
              "      <td>4.0</td>\n",
              "    </tr>\n",
              "    <tr>\n",
              "      <th>93984</th>\n",
              "      <td>Revelry</td>\n",
              "      <td>3672</td>\n",
              "      <td>5.0</td>\n",
              "    </tr>\n",
              "    <tr>\n",
              "      <th>98585</th>\n",
              "      <td>Secrets</td>\n",
              "      <td>3456</td>\n",
              "      <td>6.0</td>\n",
              "    </tr>\n",
              "    <tr>\n",
              "      <th>49061</th>\n",
              "      <td>Horn Concerto No. 4 in E flat K495: II. Romanc...</td>\n",
              "      <td>3272</td>\n",
              "      <td>7.0</td>\n",
              "    </tr>\n",
              "    <tr>\n",
              "      <th>47683</th>\n",
              "      <td>Hey_ Soul Sister</td>\n",
              "      <td>2791</td>\n",
              "      <td>8.0</td>\n",
              "    </tr>\n",
              "    <tr>\n",
              "      <th>37656</th>\n",
              "      <td>Fireflies</td>\n",
              "      <td>2745</td>\n",
              "      <td>9.0</td>\n",
              "    </tr>\n",
              "    <tr>\n",
              "      <th>121358</th>\n",
              "      <td>Tive Sim</td>\n",
              "      <td>2669</td>\n",
              "      <td>10.0</td>\n",
              "    </tr>\n",
              "  </tbody>\n",
              "</table>\n",
              "</div>"
            ],
            "text/plain": [
              "                                                  release  score  Rank\n",
              "98812                                       Sehr kosmisch   5043   1.0\n",
              "125393                                               Undo   4483   2.0\n",
              "136066                                     You're The One   4270   3.0\n",
              "28716                      Dog Days Are Over (Radio Edit)   3780   4.0\n",
              "93984                                             Revelry   3672   5.0\n",
              "98585                                             Secrets   3456   6.0\n",
              "49061   Horn Concerto No. 4 in E flat K495: II. Romanc...   3272   7.0\n",
              "47683                                    Hey_ Soul Sister   2791   8.0\n",
              "37656                                           Fireflies   2745   9.0\n",
              "121358                                           Tive Sim   2669  10.0"
            ]
          },
          "metadata": {
            "tags": []
          }
        }
      ]
    },
    {
      "cell_type": "markdown",
      "metadata": {
        "id": "ri8b18YU01Yw"
      },
      "source": [
        "## Recommending top 10 artist name to a new user:"
      ]
    },
    {
      "cell_type": "code",
      "metadata": {
        "id": "tIWMqIARu2BZ"
      },
      "source": [
        "def create_popularity_recommendation(train_data, user_id, artist_name, n=10):\n",
        "  train_data_grouped = final_data.groupby([\"artist_name\"]).agg({\"user_id\": 'count'}).reset_index()\n",
        "  train_data_grouped.rename(columns = {\"user_id\": 'score'},inplace=True)\n",
        "    \n",
        "    #Sort the songs based upon recommendation score\n",
        "  train_data_sort = train_data_grouped.sort_values(['score', \"artist_name\"], ascending = [0,1])\n",
        "    \n",
        "    #Generate a recommendation rank based upon score\n",
        "  train_data_sort['Rank'] = train_data_sort.score.rank(ascending=0, method='first')\n",
        "        \n",
        "    #Get the top n recommendations\n",
        "  popularity_recommendations = train_data_sort.head(n)\n",
        "  return popularity_recommendations\n"
      ],
      "execution_count": 173,
      "outputs": []
    },
    {
      "cell_type": "code",
      "metadata": {
        "colab": {
          "base_uri": "https://localhost:8080/",
          "height": 359
        },
        "id": "16-l3jg7wFW9",
        "outputId": "349c6f62-b0e3-473c-99cc-b2913a855724"
      },
      "source": [
        "recommendations = create_popularity_recommendation(final_data,'user_id','artist_name', 10)\n",
        "display(recommendations)"
      ],
      "execution_count": 174,
      "outputs": [
        {
          "output_type": "display_data",
          "data": {
            "text/html": [
              "<div>\n",
              "<style scoped>\n",
              "    .dataframe tbody tr th:only-of-type {\n",
              "        vertical-align: middle;\n",
              "    }\n",
              "\n",
              "    .dataframe tbody tr th {\n",
              "        vertical-align: top;\n",
              "    }\n",
              "\n",
              "    .dataframe thead th {\n",
              "        text-align: right;\n",
              "    }\n",
              "</style>\n",
              "<table border=\"1\" class=\"dataframe\">\n",
              "  <thead>\n",
              "    <tr style=\"text-align: right;\">\n",
              "      <th></th>\n",
              "      <th>artist_name</th>\n",
              "      <th>score</th>\n",
              "      <th>Rank</th>\n",
              "    </tr>\n",
              "  </thead>\n",
              "  <tbody>\n",
              "    <tr>\n",
              "      <th>5085</th>\n",
              "      <td>Coldplay</td>\n",
              "      <td>12279</td>\n",
              "      <td>1.0</td>\n",
              "    </tr>\n",
              "    <tr>\n",
              "      <th>13610</th>\n",
              "      <td>Kings Of Leon</td>\n",
              "      <td>8514</td>\n",
              "      <td>2.0</td>\n",
              "    </tr>\n",
              "    <tr>\n",
              "      <th>8801</th>\n",
              "      <td>Florence + The Machine</td>\n",
              "      <td>8213</td>\n",
              "      <td>3.0</td>\n",
              "    </tr>\n",
              "    <tr>\n",
              "      <th>12964</th>\n",
              "      <td>Justin Bieber</td>\n",
              "      <td>7669</td>\n",
              "      <td>4.0</td>\n",
              "    </tr>\n",
              "    <tr>\n",
              "      <th>11378</th>\n",
              "      <td>Jack Johnson</td>\n",
              "      <td>6784</td>\n",
              "      <td>5.0</td>\n",
              "    </tr>\n",
              "    <tr>\n",
              "      <th>26440</th>\n",
              "      <td>Train</td>\n",
              "      <td>6617</td>\n",
              "      <td>6.0</td>\n",
              "    </tr>\n",
              "    <tr>\n",
              "      <th>23945</th>\n",
              "      <td>The Black Keys</td>\n",
              "      <td>6507</td>\n",
              "      <td>7.0</td>\n",
              "    </tr>\n",
              "    <tr>\n",
              "      <th>7969</th>\n",
              "      <td>Eminem</td>\n",
              "      <td>6297</td>\n",
              "      <td>8.0</td>\n",
              "    </tr>\n",
              "    <tr>\n",
              "      <th>18346</th>\n",
              "      <td>OneRepublic</td>\n",
              "      <td>6027</td>\n",
              "      <td>9.0</td>\n",
              "    </tr>\n",
              "    <tr>\n",
              "      <th>17317</th>\n",
              "      <td>Muse</td>\n",
              "      <td>5849</td>\n",
              "      <td>10.0</td>\n",
              "    </tr>\n",
              "  </tbody>\n",
              "</table>\n",
              "</div>"
            ],
            "text/plain": [
              "                  artist_name  score  Rank\n",
              "5085                 Coldplay  12279   1.0\n",
              "13610           Kings Of Leon   8514   2.0\n",
              "8801   Florence + The Machine   8213   3.0\n",
              "12964           Justin Bieber   7669   4.0\n",
              "11378            Jack Johnson   6784   5.0\n",
              "26440                   Train   6617   6.0\n",
              "23945          The Black Keys   6507   7.0\n",
              "7969                   Eminem   6297   8.0\n",
              "18346             OneRepublic   6027   9.0\n",
              "17317                    Muse   5849  10.0"
            ]
          },
          "metadata": {
            "tags": []
          }
        }
      ]
    },
    {
      "cell_type": "code",
      "metadata": {
        "id": "kAw7Lmm4rZpH",
        "colab": {
          "base_uri": "https://localhost:8080/",
          "height": 128
        },
        "outputId": "ceccdc04-0561-4cca-80fc-df37f7b99b02"
      },
      "source": [
        "final_data.head(2)"
      ],
      "execution_count": 54,
      "outputs": [
        {
          "output_type": "execute_result",
          "data": {
            "text/html": [
              "<div>\n",
              "<style scoped>\n",
              "    .dataframe tbody tr th:only-of-type {\n",
              "        vertical-align: middle;\n",
              "    }\n",
              "\n",
              "    .dataframe tbody tr th {\n",
              "        vertical-align: top;\n",
              "    }\n",
              "\n",
              "    .dataframe thead th {\n",
              "        text-align: right;\n",
              "    }\n",
              "</style>\n",
              "<table border=\"1\" class=\"dataframe\">\n",
              "  <thead>\n",
              "    <tr style=\"text-align: right;\">\n",
              "      <th></th>\n",
              "      <th>user_id</th>\n",
              "      <th>song_id</th>\n",
              "      <th>freq</th>\n",
              "      <th>track_id</th>\n",
              "      <th>artist_name</th>\n",
              "      <th>release</th>\n",
              "    </tr>\n",
              "  </thead>\n",
              "  <tbody>\n",
              "    <tr>\n",
              "      <th>0</th>\n",
              "      <td>fd50c4007b68a3737fe052d5a4f78ce8aa117f3d</td>\n",
              "      <td>SOBONKR12A58A7A7E0</td>\n",
              "      <td>1</td>\n",
              "      <td>TRAEHHJ12903CF492F</td>\n",
              "      <td>Dwight Yoakam</td>\n",
              "      <td>You're The One</td>\n",
              "    </tr>\n",
              "    <tr>\n",
              "      <th>1</th>\n",
              "      <td>fd50c4007b68a3737fe052d5a4f78ce8aa117f3d</td>\n",
              "      <td>SOEGIYH12A6D4FC0E3</td>\n",
              "      <td>1</td>\n",
              "      <td>TRLGMFJ128F4217DBE</td>\n",
              "      <td>Barry Tuckwell/Academy of St Martin-in-the-Fie...</td>\n",
              "      <td>Horn Concerto No. 4 in E flat K495: II. Romanc...</td>\n",
              "    </tr>\n",
              "  </tbody>\n",
              "</table>\n",
              "</div>"
            ],
            "text/plain": [
              "                                    user_id  ...                                            release\n",
              "0  fd50c4007b68a3737fe052d5a4f78ce8aa117f3d  ...                                     You're The One\n",
              "1  fd50c4007b68a3737fe052d5a4f78ce8aa117f3d  ...  Horn Concerto No. 4 in E flat K495: II. Romanc...\n",
              "\n",
              "[2 rows x 6 columns]"
            ]
          },
          "metadata": {
            "tags": []
          },
          "execution_count": 54
        }
      ]
    },
    {
      "cell_type": "markdown",
      "metadata": {
        "id": "jCvSdQv2fMQ2"
      },
      "source": [
        "# content based recommendation..."
      ]
    },
    {
      "cell_type": "markdown",
      "metadata": {
        "id": "z9xUg-YCfpOD"
      },
      "source": [
        "### Recommendations done using content-based recommenders can be seen as a user-specific classification problem. This classifier learns the user's likes and dislikes from the features of the song.\n",
        "\n",
        "### The most straightforward approach is keyword matching.\n",
        "\n",
        "### In a few words, the idea behind is to extract meaningful keywords present in a song description a user likes, search for the keywords in other song descriptions to estimate similarities among them, and based on that, recommend those songs to the user.\n",
        "\n",
        "### How is this performed?\n",
        "\n",
        "### In our case, because we are working with text and words, Term Frequency-Inverse Document Frequency (TF-IDF) can be used for this matching process.\n",
        "\n",
        "# We'll go through the steps for generating a content-based music recommender system."
      ]
    },
    {
      "cell_type": "markdown",
      "metadata": {
        "id": "xUFA4wXv1K3P"
      },
      "source": [
        "![download (1).png](data:image/png;base64,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)"
      ]
    },
    {
      "cell_type": "code",
      "metadata": {
        "id": "1zIuiSelrZ-Q",
        "colab": {
          "base_uri": "https://localhost:8080/",
          "height": 204
        },
        "outputId": "f21a4695-4ea7-4f25-8ff8-c3dfb2bd4449"
      },
      "source": [
        "# separating release (song)  from our final data sets to find the similarity between songs:\n",
        "songs=pd.DataFrame(final_data['release'])\n",
        "songs.head(5)"
      ],
      "execution_count": 55,
      "outputs": [
        {
          "output_type": "execute_result",
          "data": {
            "text/html": [
              "<div>\n",
              "<style scoped>\n",
              "    .dataframe tbody tr th:only-of-type {\n",
              "        vertical-align: middle;\n",
              "    }\n",
              "\n",
              "    .dataframe tbody tr th {\n",
              "        vertical-align: top;\n",
              "    }\n",
              "\n",
              "    .dataframe thead th {\n",
              "        text-align: right;\n",
              "    }\n",
              "</style>\n",
              "<table border=\"1\" class=\"dataframe\">\n",
              "  <thead>\n",
              "    <tr style=\"text-align: right;\">\n",
              "      <th></th>\n",
              "      <th>release</th>\n",
              "    </tr>\n",
              "  </thead>\n",
              "  <tbody>\n",
              "    <tr>\n",
              "      <th>0</th>\n",
              "      <td>You're The One</td>\n",
              "    </tr>\n",
              "    <tr>\n",
              "      <th>1</th>\n",
              "      <td>Horn Concerto No. 4 in E flat K495: II. Romanc...</td>\n",
              "    </tr>\n",
              "    <tr>\n",
              "      <th>2</th>\n",
              "      <td>Tive Sim</td>\n",
              "    </tr>\n",
              "    <tr>\n",
              "      <th>3</th>\n",
              "      <td>Catch You Baby (Steve Pitron &amp; Max Sanna Radio...</td>\n",
              "    </tr>\n",
              "    <tr>\n",
              "      <th>4</th>\n",
              "      <td>El Cuatrero</td>\n",
              "    </tr>\n",
              "  </tbody>\n",
              "</table>\n",
              "</div>"
            ],
            "text/plain": [
              "                                             release\n",
              "0                                     You're The One\n",
              "1  Horn Concerto No. 4 in E flat K495: II. Romanc...\n",
              "2                                           Tive Sim\n",
              "3  Catch You Baby (Steve Pitron & Max Sanna Radio...\n",
              "4                                        El Cuatrero"
            ]
          },
          "metadata": {
            "tags": []
          },
          "execution_count": 55
        }
      ]
    },
    {
      "cell_type": "code",
      "metadata": {
        "id": "iEx9vnfeaylp"
      },
      "source": [
        "# taking 10000 samples from the original datasets, to reduce the time complexity, bcz it will take much time to find the similarity score between lakhs of songs\n",
        "\n",
        "songs2=songs.sample(n=10000).reset_index(drop=True)"
      ],
      "execution_count": 119,
      "outputs": []
    },
    {
      "cell_type": "code",
      "metadata": {
        "colab": {
          "base_uri": "https://localhost:8080/",
          "height": 204
        },
        "id": "TnLnFcKqhFM8",
        "outputId": "fa9e4966-1dd8-4789-d5c6-5001eb413b20"
      },
      "source": [
        "songs2.head()    # checking top 5 head of 10000 samples:"
      ],
      "execution_count": 120,
      "outputs": [
        {
          "output_type": "execute_result",
          "data": {
            "text/html": [
              "<div>\n",
              "<style scoped>\n",
              "    .dataframe tbody tr th:only-of-type {\n",
              "        vertical-align: middle;\n",
              "    }\n",
              "\n",
              "    .dataframe tbody tr th {\n",
              "        vertical-align: top;\n",
              "    }\n",
              "\n",
              "    .dataframe thead th {\n",
              "        text-align: right;\n",
              "    }\n",
              "</style>\n",
              "<table border=\"1\" class=\"dataframe\">\n",
              "  <thead>\n",
              "    <tr style=\"text-align: right;\">\n",
              "      <th></th>\n",
              "      <th>release</th>\n",
              "    </tr>\n",
              "  </thead>\n",
              "  <tbody>\n",
              "    <tr>\n",
              "      <th>0</th>\n",
              "      <td>Slam</td>\n",
              "    </tr>\n",
              "    <tr>\n",
              "      <th>1</th>\n",
              "      <td>Underdog  In The Style of  You Me At Six    No...</td>\n",
              "    </tr>\n",
              "    <tr>\n",
              "      <th>2</th>\n",
              "      <td>Until We Bleed  Feat  Lykke Li</td>\n",
              "    </tr>\n",
              "    <tr>\n",
              "      <th>3</th>\n",
              "      <td>Somewhere in the Middle</td>\n",
              "    </tr>\n",
              "    <tr>\n",
              "      <th>4</th>\n",
              "      <td>Faster  Explicit Version</td>\n",
              "    </tr>\n",
              "  </tbody>\n",
              "</table>\n",
              "</div>"
            ],
            "text/plain": [
              "                                             release\n",
              "0                                               Slam\n",
              "1  Underdog  In The Style of  You Me At Six    No...\n",
              "2                    Until We Bleed  Feat  Lykke Li \n",
              "3                            Somewhere in the Middle\n",
              "4                          Faster  Explicit Version "
            ]
          },
          "metadata": {
            "tags": []
          },
          "execution_count": 120
        }
      ]
    },
    {
      "cell_type": "code",
      "metadata": {
        "id": "gI7zyjv8aULG"
      },
      "source": [
        "# in the songs column we are replacing numbers and extra character by using replace function\n",
        "songs2['release']=songs2['release'].str.replace(r'[^a-z A-Z]',' ')"
      ],
      "execution_count": 122,
      "outputs": []
    },
    {
      "cell_type": "code",
      "metadata": {
        "colab": {
          "base_uri": "https://localhost:8080/",
          "height": 204
        },
        "id": "PfnNHVg_byc1",
        "outputId": "7d82b2ab-b6d9-429e-c645-8327f6426223"
      },
      "source": [
        "songs2.head()   "
      ],
      "execution_count": 123,
      "outputs": [
        {
          "output_type": "execute_result",
          "data": {
            "text/html": [
              "<div>\n",
              "<style scoped>\n",
              "    .dataframe tbody tr th:only-of-type {\n",
              "        vertical-align: middle;\n",
              "    }\n",
              "\n",
              "    .dataframe tbody tr th {\n",
              "        vertical-align: top;\n",
              "    }\n",
              "\n",
              "    .dataframe thead th {\n",
              "        text-align: right;\n",
              "    }\n",
              "</style>\n",
              "<table border=\"1\" class=\"dataframe\">\n",
              "  <thead>\n",
              "    <tr style=\"text-align: right;\">\n",
              "      <th></th>\n",
              "      <th>release</th>\n",
              "    </tr>\n",
              "  </thead>\n",
              "  <tbody>\n",
              "    <tr>\n",
              "      <th>0</th>\n",
              "      <td>Slam</td>\n",
              "    </tr>\n",
              "    <tr>\n",
              "      <th>1</th>\n",
              "      <td>Underdog  In The Style of  You Me At Six    No...</td>\n",
              "    </tr>\n",
              "    <tr>\n",
              "      <th>2</th>\n",
              "      <td>Until We Bleed  Feat  Lykke Li</td>\n",
              "    </tr>\n",
              "    <tr>\n",
              "      <th>3</th>\n",
              "      <td>Somewhere in the Middle</td>\n",
              "    </tr>\n",
              "    <tr>\n",
              "      <th>4</th>\n",
              "      <td>Faster  Explicit Version</td>\n",
              "    </tr>\n",
              "  </tbody>\n",
              "</table>\n",
              "</div>"
            ],
            "text/plain": [
              "                                             release\n",
              "0                                               Slam\n",
              "1  Underdog  In The Style of  You Me At Six    No...\n",
              "2                    Until We Bleed  Feat  Lykke Li \n",
              "3                            Somewhere in the Middle\n",
              "4                          Faster  Explicit Version "
            ]
          },
          "metadata": {
            "tags": []
          },
          "execution_count": 123
        }
      ]
    },
    {
      "cell_type": "code",
      "metadata": {
        "id": "zMJB-HZ5cxEp"
      },
      "source": [
        "#importing tfid and cosine_similarity \n",
        " \n",
        "from sklearn.feature_extraction.text import TfidfVectorizer\n",
        "from sklearn.metrics.pairwise import cosine_similarity"
      ],
      "execution_count": 124,
      "outputs": []
    },
    {
      "cell_type": "code",
      "metadata": {
        "id": "sIPRTlSDdHdz"
      },
      "source": [
        "tfidf=TfidfVectorizer(analyzer='word',stop_words='english')"
      ],
      "execution_count": 183,
      "outputs": []
    },
    {
      "cell_type": "code",
      "metadata": {
        "id": "5QoCGvuzddUP"
      },
      "source": [
        "lyric_matrix=tfidf.fit_transform(songs2['release'])"
      ],
      "execution_count": 184,
      "outputs": []
    },
    {
      "cell_type": "code",
      "metadata": {
        "id": "FmjanvDodmJT"
      },
      "source": [
        "cosine_similarities=cosine_similarity(lyric_matrix)  # cosine similarity caLCULATION BETWEEN DIFFERENT songs"
      ],
      "execution_count": 127,
      "outputs": []
    },
    {
      "cell_type": "code",
      "metadata": {
        "id": "sD1_DhvahkyR"
      },
      "source": [
        "cos=pd.DataFrame(cosine_similarities)"
      ],
      "execution_count": 128,
      "outputs": []
    },
    {
      "cell_type": "code",
      "metadata": {
        "id": "yGUyw_bQdvzf"
      },
      "source": [
        "similarities={}\n"
      ],
      "execution_count": 129,
      "outputs": []
    },
    {
      "cell_type": "code",
      "metadata": {
        "id": "aJewgZ2od6Sm"
      },
      "source": [
        "for i in range(len(cosine_similarities)):\n",
        "  similar_indices=cosine_similarities[i].argsort()[:-50:-1]\n",
        "  similarities[songs[\"release\"].iloc[i]]=[(cosine_similarities[i][x],songs2[\"release\"][x],songs2[\"release\"][x]) for x in similar_indices][1:]"
      ],
      "execution_count": 130,
      "outputs": []
    },
    {
      "cell_type": "markdown",
      "metadata": {
        "id": "rDYPqQtN4rQF"
      },
      "source": [
        "## creating content based recommendor:"
      ]
    },
    {
      "cell_type": "code",
      "metadata": {
        "id": "vQ_twu8Oiy3r"
      },
      "source": [
        "class ContentBasedRecommender:\n",
        "    def __init__(self, matrix):\n",
        "        self.matrix_similar = matrix\n",
        "\n",
        "    def _print_message(self, song, recom_song):\n",
        "        rec_items = len(recom_song)\n",
        "        \n",
        "        print(f'The {rec_items} recommended songs for {song} are:')\n",
        "        for i in range(rec_items):\n",
        "            print(f\"Number {i+1}:\")\n",
        "            print(f\"{recom_song[i][1]} by {recom_song[i][2]} with {round(recom_song[i][0], 3)} similarity score\") \n",
        "            print(\"--------------------\")\n",
        "        \n",
        "    def recommend(self, recommendation):\n",
        "        # Get song to find recommendations for\n",
        "        song = recommendation['song']\n",
        "        # Get number of songs to recommend\n",
        "        number_songs = recommendation['number_songs']\n",
        "        # Get the number of songs most similars from matrix similarities\n",
        "        recom_song = self.matrix_similar[song][:number_songs]\n",
        "        # print each item\n",
        "        self._print_message(song=song, recom_song=recom_song)"
      ],
      "execution_count": 131,
      "outputs": []
    },
    {
      "cell_type": "code",
      "metadata": {
        "id": "v4Ocv1GYjWvb"
      },
      "source": [
        "\n",
        "recommedations = ContentBasedRecommender(similarities)"
      ],
      "execution_count": 132,
      "outputs": []
    },
    {
      "cell_type": "code",
      "metadata": {
        "id": "bzsZynI1jgu-"
      },
      "source": [
        "# recommending songs by passing one songs to our recommender function:\n",
        "\n",
        "recommendation = {\n",
        "    \"song\": songs2['release'].iloc[50],\n",
        "    \"number_songs\": 10\n",
        "}"
      ],
      "execution_count": 151,
      "outputs": []
    },
    {
      "cell_type": "code",
      "metadata": {
        "colab": {
          "base_uri": "https://localhost:8080/"
        },
        "id": "Ems_ZCM1jrMJ",
        "outputId": "4a0f562a-6043-4903-d64c-84e3737db769"
      },
      "source": [
        "recommedations.recommend(recommendation)"
      ],
      "execution_count": 152,
      "outputs": [
        {
          "output_type": "stream",
          "text": [
            "The 10 recommended songs for Sehr kosmisch are:\n",
            "Number 1:\n",
            "Take A Bow by Take A Bow with 1.0 similarity score\n",
            "--------------------\n",
            "Number 2:\n",
            "Take A Bow by Take A Bow with 1.0 similarity score\n",
            "--------------------\n",
            "Number 3:\n",
            "Take A Bow by Take A Bow with 1.0 similarity score\n",
            "--------------------\n",
            "Number 4:\n",
            "Take A Bow by Take A Bow with 1.0 similarity score\n",
            "--------------------\n",
            "Number 5:\n",
            "Refuse To Bow Down by Refuse To Bow Down with 0.684 similarity score\n",
            "--------------------\n",
            "Number 6:\n",
            "Kelma by Kelma with 0.0 similarity score\n",
            "--------------------\n",
            "Number 7:\n",
            "Jingle Bell Rock by Jingle Bell Rock with 0.0 similarity score\n",
            "--------------------\n",
            "Number 8:\n",
            "CIE  by CIE  with 0.0 similarity score\n",
            "--------------------\n",
            "Number 9:\n",
            "She s Got A Way by She s Got A Way with 0.0 similarity score\n",
            "--------------------\n",
            "Number 10:\n",
            "Nimrod s Son by Nimrod s Son with 0.0 similarity score\n",
            "--------------------\n"
          ],
          "name": "stdout"
        }
      ]
    },
    {
      "cell_type": "code",
      "metadata": {
        "id": "m42goBefjtv-"
      },
      "source": [
        "recommendation2 = {\n",
        "    \"song\": songs2['release'].iloc[100],\n",
        "    \"number_songs\": 10\n",
        "}"
      ],
      "execution_count": 155,
      "outputs": []
    },
    {
      "cell_type": "code",
      "metadata": {
        "colab": {
          "base_uri": "https://localhost:8080/"
        },
        "id": "NthZgaSDnX9a",
        "outputId": "79ae3eee-cf58-45a2-edaa-1a33869da2bb"
      },
      "source": [
        "recommedations.recommend(recommendation2)"
      ],
      "execution_count": 156,
      "outputs": [
        {
          "output_type": "stream",
          "text": [
            "The 10 recommended songs for Timeless are:\n",
            "Number 1:\n",
            "Happy Birthday by Happy Birthday with 0.769 similarity score\n",
            "--------------------\n",
            "Number 2:\n",
            "Birthday Sex by Birthday Sex with 0.713 similarity score\n",
            "--------------------\n",
            "Number 3:\n",
            "Birthday Sex by Birthday Sex with 0.713 similarity score\n",
            "--------------------\n",
            "Number 4:\n",
            "Birthday Sex by Birthday Sex with 0.713 similarity score\n",
            "--------------------\n",
            "Number 5:\n",
            "Happy Birthday  Live Verison  by Happy Birthday  Live Verison  with 0.552 similarity score\n",
            "--------------------\n",
            "Number 6:\n",
            "CIE  by CIE  with 0.0 similarity score\n",
            "--------------------\n",
            "Number 7:\n",
            "Secrets by Secrets with 0.0 similarity score\n",
            "--------------------\n",
            "Number 8:\n",
            "Midnight by Midnight with 0.0 similarity score\n",
            "--------------------\n",
            "Number 9:\n",
            "Mouth To Mouth by Mouth To Mouth with 0.0 similarity score\n",
            "--------------------\n",
            "Number 10:\n",
            "My Soft  Deep by My Soft  Deep with 0.0 similarity score\n",
            "--------------------\n"
          ],
          "name": "stdout"
        }
      ]
    },
    {
      "cell_type": "code",
      "metadata": {
        "id": "QEMKu6Shtz-B"
      },
      "source": [
        ""
      ],
      "execution_count": null,
      "outputs": []
    }
  ]
}