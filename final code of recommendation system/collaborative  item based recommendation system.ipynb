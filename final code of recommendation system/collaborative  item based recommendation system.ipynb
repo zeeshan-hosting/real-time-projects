{
  "nbformat": 4,
  "nbformat_minor": 0,
  "metadata": {
    "colab": {
      "name": "Item-Based-CF.ipynb",
      "provenance": [],
      "collapsed_sections": []
    },
    "kernelspec": {
      "display_name": "Python 3",
      "name": "python3"
    },
    "language_info": {
      "name": "python"
    }
  },
  "cells": [
    {
      "cell_type": "code",
      "metadata": {
        "colab": {
          "base_uri": "https://localhost:8080/"
        },
        "id": "pGtdEx6ibshp",
        "outputId": "3c9c6455-ecf2-4c41-922b-64d3b02bc210"
      },
      "source": [
        "from google.colab import drive\n",
        "drive.mount(\"/content/drive\")"
      ],
      "execution_count": 2,
      "outputs": [
        {
          "output_type": "stream",
          "text": [
            "Drive already mounted at /content/drive; to attempt to forcibly remount, call drive.mount(\"/content/drive\", force_remount=True).\n"
          ],
          "name": "stdout"
        }
      ]
    },
    {
      "cell_type": "code",
      "metadata": {
        "id": "PTPMg68hc3q9"
      },
      "source": [
        "import pandas as pd\n",
        "import numpy as np\n",
        "import matplotlib.pyplot as plt\n",
        "import seaborn as sns"
      ],
      "execution_count": 3,
      "outputs": []
    },
    {
      "cell_type": "code",
      "metadata": {
        "id": "Bmf398edd_gE"
      },
      "source": [
        "df=pd.read_csv(\"/content/drive/MyDrive/Internship/kaggle/kaggle_visible_evaluation_triplets.txt\",sep='\\t',names=[\"user_id\",'song_id','freq'])"
      ],
      "execution_count": 4,
      "outputs": []
    },
    {
      "cell_type": "code",
      "metadata": {
        "colab": {
          "base_uri": "https://localhost:8080/"
        },
        "id": "JLAeQ3yMm5Lq",
        "outputId": "0c8d90dd-1281-47cf-93b1-7ce2e64121c3"
      },
      "source": [
        "df.shape"
      ],
      "execution_count": 5,
      "outputs": [
        {
          "output_type": "execute_result",
          "data": {
            "text/plain": [
              "(1450933, 3)"
            ]
          },
          "metadata": {
            "tags": []
          },
          "execution_count": 5
        }
      ]
    },
    {
      "cell_type": "code",
      "metadata": {
        "colab": {
          "base_uri": "https://localhost:8080/",
          "height": 203
        },
        "id": "ScCezszAlUGp",
        "outputId": "56411637-2e04-4c96-b3bf-1a56cf285859"
      },
      "source": [
        "df.head()"
      ],
      "execution_count": 6,
      "outputs": [
        {
          "output_type": "execute_result",
          "data": {
            "text/html": [
              "<div>\n",
              "<style scoped>\n",
              "    .dataframe tbody tr th:only-of-type {\n",
              "        vertical-align: middle;\n",
              "    }\n",
              "\n",
              "    .dataframe tbody tr th {\n",
              "        vertical-align: top;\n",
              "    }\n",
              "\n",
              "    .dataframe thead th {\n",
              "        text-align: right;\n",
              "    }\n",
              "</style>\n",
              "<table border=\"1\" class=\"dataframe\">\n",
              "  <thead>\n",
              "    <tr style=\"text-align: right;\">\n",
              "      <th></th>\n",
              "      <th>user_id</th>\n",
              "      <th>song_id</th>\n",
              "      <th>freq</th>\n",
              "    </tr>\n",
              "  </thead>\n",
              "  <tbody>\n",
              "    <tr>\n",
              "      <th>0</th>\n",
              "      <td>fd50c4007b68a3737fe052d5a4f78ce8aa117f3d</td>\n",
              "      <td>SOBONKR12A58A7A7E0</td>\n",
              "      <td>1</td>\n",
              "    </tr>\n",
              "    <tr>\n",
              "      <th>1</th>\n",
              "      <td>fd50c4007b68a3737fe052d5a4f78ce8aa117f3d</td>\n",
              "      <td>SOEGIYH12A6D4FC0E3</td>\n",
              "      <td>1</td>\n",
              "    </tr>\n",
              "    <tr>\n",
              "      <th>2</th>\n",
              "      <td>fd50c4007b68a3737fe052d5a4f78ce8aa117f3d</td>\n",
              "      <td>SOFLJQZ12A6D4FADA6</td>\n",
              "      <td>1</td>\n",
              "    </tr>\n",
              "    <tr>\n",
              "      <th>3</th>\n",
              "      <td>fd50c4007b68a3737fe052d5a4f78ce8aa117f3d</td>\n",
              "      <td>SOHTKMO12AB01843B0</td>\n",
              "      <td>1</td>\n",
              "    </tr>\n",
              "    <tr>\n",
              "      <th>4</th>\n",
              "      <td>fd50c4007b68a3737fe052d5a4f78ce8aa117f3d</td>\n",
              "      <td>SODQZCY12A6D4F9D11</td>\n",
              "      <td>1</td>\n",
              "    </tr>\n",
              "  </tbody>\n",
              "</table>\n",
              "</div>"
            ],
            "text/plain": [
              "                                    user_id             song_id  freq\n",
              "0  fd50c4007b68a3737fe052d5a4f78ce8aa117f3d  SOBONKR12A58A7A7E0     1\n",
              "1  fd50c4007b68a3737fe052d5a4f78ce8aa117f3d  SOEGIYH12A6D4FC0E3     1\n",
              "2  fd50c4007b68a3737fe052d5a4f78ce8aa117f3d  SOFLJQZ12A6D4FADA6     1\n",
              "3  fd50c4007b68a3737fe052d5a4f78ce8aa117f3d  SOHTKMO12AB01843B0     1\n",
              "4  fd50c4007b68a3737fe052d5a4f78ce8aa117f3d  SODQZCY12A6D4F9D11     1"
            ]
          },
          "metadata": {
            "tags": []
          },
          "execution_count": 6
        }
      ]
    },
    {
      "cell_type": "code",
      "metadata": {
        "colab": {
          "base_uri": "https://localhost:8080/"
        },
        "id": "GfGJTQs3lUEN",
        "outputId": "8be96fdc-1fb2-42f0-c15a-7e5d2cdb42a1"
      },
      "source": [
        "unique=pd.read_csv(\"/content/drive/MyDrive/Internship/kaggle/unique_tracks.txt\",sep='<SEP>',\n",
        "                   names=[\"track_id\",\"song_id\",\"artist_name\",\"release\"])"
      ],
      "execution_count": 7,
      "outputs": [
        {
          "output_type": "stream",
          "text": [
            "/usr/local/lib/python3.7/dist-packages/ipykernel_launcher.py:2: ParserWarning: Falling back to the 'python' engine because the 'c' engine does not support regex separators (separators > 1 char and different from '\\s+' are interpreted as regex); you can avoid this warning by specifying engine='python'.\n",
            "  \n"
          ],
          "name": "stderr"
        }
      ]
    },
    {
      "cell_type": "code",
      "metadata": {
        "colab": {
          "base_uri": "https://localhost:8080/",
          "height": 203
        },
        "id": "TpNObCEqlUBf",
        "outputId": "ed288dce-94c3-4223-ddc6-68ecb677146e"
      },
      "source": [
        "unique.head(5)"
      ],
      "execution_count": 8,
      "outputs": [
        {
          "output_type": "execute_result",
          "data": {
            "text/html": [
              "<div>\n",
              "<style scoped>\n",
              "    .dataframe tbody tr th:only-of-type {\n",
              "        vertical-align: middle;\n",
              "    }\n",
              "\n",
              "    .dataframe tbody tr th {\n",
              "        vertical-align: top;\n",
              "    }\n",
              "\n",
              "    .dataframe thead th {\n",
              "        text-align: right;\n",
              "    }\n",
              "</style>\n",
              "<table border=\"1\" class=\"dataframe\">\n",
              "  <thead>\n",
              "    <tr style=\"text-align: right;\">\n",
              "      <th></th>\n",
              "      <th>track_id</th>\n",
              "      <th>song_id</th>\n",
              "      <th>artist_name</th>\n",
              "      <th>release</th>\n",
              "    </tr>\n",
              "  </thead>\n",
              "  <tbody>\n",
              "    <tr>\n",
              "      <th>0</th>\n",
              "      <td>TRMMMYQ128F932D901</td>\n",
              "      <td>SOQMMHC12AB0180CB8</td>\n",
              "      <td>Faster Pussy cat</td>\n",
              "      <td>Silent Night</td>\n",
              "    </tr>\n",
              "    <tr>\n",
              "      <th>1</th>\n",
              "      <td>TRMMMKD128F425225D</td>\n",
              "      <td>SOVFVAK12A8C1350D9</td>\n",
              "      <td>Karkkiautomaatti</td>\n",
              "      <td>Tanssi vaan</td>\n",
              "    </tr>\n",
              "    <tr>\n",
              "      <th>2</th>\n",
              "      <td>TRMMMRX128F93187D9</td>\n",
              "      <td>SOGTUKN12AB017F4F1</td>\n",
              "      <td>Hudson Mohawke</td>\n",
              "      <td>No One Could Ever</td>\n",
              "    </tr>\n",
              "    <tr>\n",
              "      <th>3</th>\n",
              "      <td>TRMMMCH128F425532C</td>\n",
              "      <td>SOBNYVR12A8C13558C</td>\n",
              "      <td>Yerba Brava</td>\n",
              "      <td>Si Vos Querés</td>\n",
              "    </tr>\n",
              "    <tr>\n",
              "      <th>4</th>\n",
              "      <td>TRMMMWA128F426B589</td>\n",
              "      <td>SOHSBXH12A8C13B0DF</td>\n",
              "      <td>Der Mystic</td>\n",
              "      <td>Tangle Of Aspens</td>\n",
              "    </tr>\n",
              "  </tbody>\n",
              "</table>\n",
              "</div>"
            ],
            "text/plain": [
              "             track_id             song_id       artist_name            release\n",
              "0  TRMMMYQ128F932D901  SOQMMHC12AB0180CB8  Faster Pussy cat       Silent Night\n",
              "1  TRMMMKD128F425225D  SOVFVAK12A8C1350D9  Karkkiautomaatti        Tanssi vaan\n",
              "2  TRMMMRX128F93187D9  SOGTUKN12AB017F4F1    Hudson Mohawke  No One Could Ever\n",
              "3  TRMMMCH128F425532C  SOBNYVR12A8C13558C       Yerba Brava      Si Vos Querés\n",
              "4  TRMMMWA128F426B589  SOHSBXH12A8C13B0DF        Der Mystic   Tangle Of Aspens"
            ]
          },
          "metadata": {
            "tags": []
          },
          "execution_count": 8
        }
      ]
    },
    {
      "cell_type": "code",
      "metadata": {
        "colab": {
          "base_uri": "https://localhost:8080/"
        },
        "id": "t4jsa7RSlT-k",
        "outputId": "5d4b477c-833a-4c76-da6f-304b7b8e9951"
      },
      "source": [
        "unique.shape"
      ],
      "execution_count": 9,
      "outputs": [
        {
          "output_type": "execute_result",
          "data": {
            "text/plain": [
              "(1000000, 4)"
            ]
          },
          "metadata": {
            "tags": []
          },
          "execution_count": 9
        }
      ]
    },
    {
      "cell_type": "code",
      "metadata": {
        "id": "3ZEfbYLElT46"
      },
      "source": [
        "unique.drop_duplicates(subset='song_id',keep='first',inplace=True)"
      ],
      "execution_count": 10,
      "outputs": []
    },
    {
      "cell_type": "code",
      "metadata": {
        "colab": {
          "base_uri": "https://localhost:8080/",
          "height": 203
        },
        "id": "FJCm9rR2lT0f",
        "outputId": "d18e8939-bc0f-4d16-88ca-df89af719ef8"
      },
      "source": [
        "final_data=pd.merge(df,unique,how='left',on='song_id')\n",
        "final_data.head()"
      ],
      "execution_count": 11,
      "outputs": [
        {
          "output_type": "execute_result",
          "data": {
            "text/html": [
              "<div>\n",
              "<style scoped>\n",
              "    .dataframe tbody tr th:only-of-type {\n",
              "        vertical-align: middle;\n",
              "    }\n",
              "\n",
              "    .dataframe tbody tr th {\n",
              "        vertical-align: top;\n",
              "    }\n",
              "\n",
              "    .dataframe thead th {\n",
              "        text-align: right;\n",
              "    }\n",
              "</style>\n",
              "<table border=\"1\" class=\"dataframe\">\n",
              "  <thead>\n",
              "    <tr style=\"text-align: right;\">\n",
              "      <th></th>\n",
              "      <th>user_id</th>\n",
              "      <th>song_id</th>\n",
              "      <th>freq</th>\n",
              "      <th>track_id</th>\n",
              "      <th>artist_name</th>\n",
              "      <th>release</th>\n",
              "    </tr>\n",
              "  </thead>\n",
              "  <tbody>\n",
              "    <tr>\n",
              "      <th>0</th>\n",
              "      <td>fd50c4007b68a3737fe052d5a4f78ce8aa117f3d</td>\n",
              "      <td>SOBONKR12A58A7A7E0</td>\n",
              "      <td>1</td>\n",
              "      <td>TRAEHHJ12903CF492F</td>\n",
              "      <td>Dwight Yoakam</td>\n",
              "      <td>You're The One</td>\n",
              "    </tr>\n",
              "    <tr>\n",
              "      <th>1</th>\n",
              "      <td>fd50c4007b68a3737fe052d5a4f78ce8aa117f3d</td>\n",
              "      <td>SOEGIYH12A6D4FC0E3</td>\n",
              "      <td>1</td>\n",
              "      <td>TRLGMFJ128F4217DBE</td>\n",
              "      <td>Barry Tuckwell/Academy of St Martin-in-the-Fie...</td>\n",
              "      <td>Horn Concerto No. 4 in E flat K495: II. Romanc...</td>\n",
              "    </tr>\n",
              "    <tr>\n",
              "      <th>2</th>\n",
              "      <td>fd50c4007b68a3737fe052d5a4f78ce8aa117f3d</td>\n",
              "      <td>SOFLJQZ12A6D4FADA6</td>\n",
              "      <td>1</td>\n",
              "      <td>TRTNDNE128F1486812</td>\n",
              "      <td>Cartola</td>\n",
              "      <td>Tive Sim</td>\n",
              "    </tr>\n",
              "    <tr>\n",
              "      <th>3</th>\n",
              "      <td>fd50c4007b68a3737fe052d5a4f78ce8aa117f3d</td>\n",
              "      <td>SOHTKMO12AB01843B0</td>\n",
              "      <td>1</td>\n",
              "      <td>TRASTUE128F930D488</td>\n",
              "      <td>Lonnie Gordon</td>\n",
              "      <td>Catch You Baby (Steve Pitron &amp; Max Sanna Radio...</td>\n",
              "    </tr>\n",
              "    <tr>\n",
              "      <th>4</th>\n",
              "      <td>fd50c4007b68a3737fe052d5a4f78ce8aa117f3d</td>\n",
              "      <td>SODQZCY12A6D4F9D11</td>\n",
              "      <td>1</td>\n",
              "      <td>TRFPLWO128F1486B9E</td>\n",
              "      <td>Miguel Calo</td>\n",
              "      <td>El Cuatrero</td>\n",
              "    </tr>\n",
              "  </tbody>\n",
              "</table>\n",
              "</div>"
            ],
            "text/plain": [
              "                                    user_id  ...                                            release\n",
              "0  fd50c4007b68a3737fe052d5a4f78ce8aa117f3d  ...                                     You're The One\n",
              "1  fd50c4007b68a3737fe052d5a4f78ce8aa117f3d  ...  Horn Concerto No. 4 in E flat K495: II. Romanc...\n",
              "2  fd50c4007b68a3737fe052d5a4f78ce8aa117f3d  ...                                           Tive Sim\n",
              "3  fd50c4007b68a3737fe052d5a4f78ce8aa117f3d  ...  Catch You Baby (Steve Pitron & Max Sanna Radio...\n",
              "4  fd50c4007b68a3737fe052d5a4f78ce8aa117f3d  ...                                        El Cuatrero\n",
              "\n",
              "[5 rows x 6 columns]"
            ]
          },
          "metadata": {
            "tags": []
          },
          "execution_count": 11
        }
      ]
    },
    {
      "cell_type": "code",
      "metadata": {
        "colab": {
          "base_uri": "https://localhost:8080/"
        },
        "id": "meQf9ukCnVA5",
        "outputId": "269ad402-a0ce-47d9-d12c-03f75b24e14d"
      },
      "source": [
        "final_data.shape"
      ],
      "execution_count": 12,
      "outputs": [
        {
          "output_type": "execute_result",
          "data": {
            "text/plain": [
              "(1450933, 6)"
            ]
          },
          "metadata": {
            "tags": []
          },
          "execution_count": 12
        }
      ]
    },
    {
      "cell_type": "markdown",
      "metadata": {
        "id": "Czfarw4QBH--"
      },
      "source": [
        "**ITEM BASED RECOMMENDATION**"
      ]
    },
    {
      "cell_type": "code",
      "metadata": {
        "id": "tTSGaVgkkO7S"
      },
      "source": [
        " class item_similarity_recommender_py():\n",
        "    def __init__(self):\n",
        "        self.train_data = None\n",
        "        self.user_id = None\n",
        "        self.item_id = None\n",
        "        self.cooccurence_matrix = None\n",
        "        self.songs_dict = None\n",
        "        self.rev_songs_dict = None\n",
        "        self.item_similarity_recommendations = None\n",
        "        \n",
        "    #Get unique items (songs) corresponding to a given user\n",
        "    def get_user_items(self, user):\n",
        "        user_data = self.train_data[self.train_data[self.user_id] == user]\n",
        "        user_items = list(user_data[self.item_id].unique())\n",
        "        \n",
        "        return user_items\n",
        "        \n",
        "    #Get unique users for a given item (song)\n",
        "    def get_item_users(self, item):\n",
        "        item_data = self.train_data[self.train_data[self.item_id] == item]\n",
        "        item_users = set(item_data[self.user_id].unique())\n",
        "            \n",
        "        return item_users\n",
        "        \n",
        "    #Get unique items (songs) in the training data\n",
        "    def get_all_items_train_data(self):\n",
        "        all_items = list(self.train_data[self.item_id].unique())\n",
        "            \n",
        "        return all_items\n",
        "        \n",
        "    #Construct cooccurence matrix\n",
        "    def construct_cooccurence_matrix(self, user_songs, all_songs):\n",
        "        #Get users for all songs in user_songs.\n",
        "        user_songs_users = []        \n",
        "        for i in range(0, len(user_songs)):\n",
        "            user_songs_users.append(self.get_item_users(user_songs[i]))\n",
        "        #Initialize the item cooccurence matrix of size len(user_songs) X len(songs)\n",
        "        cooccurence_matrix = np.matrix(np.zeros(shape=(len(user_songs), len(all_songs))), float)\n",
        "        #Calculate similarity between user songs and all unique songs in the training data\n",
        "        for i in range(0,len(all_songs)):\n",
        "            #Calculate unique listeners (users) of song (item) i\n",
        "            songs_i_data = self.train_data[self.train_data[self.item_id] == all_songs[i]]\n",
        "            users_i = set(songs_i_data[self.user_id].unique())\n",
        "            \n",
        "            for j in range(0,len(user_songs)):       \n",
        "                    \n",
        "                #Get unique listeners (users) of song (item) j\n",
        "                users_j = user_songs_users[j]\n",
        "                    \n",
        "                #Calculate intersection of listeners of songs i and j\n",
        "                users_intersection = users_i.intersection(users_j)\n",
        "                \n",
        "                #Calculate cooccurence_matrix[i,j] as Jaccard Index\n",
        "                if len(users_intersection) != 0:\n",
        "                    #Calculate union of listeners of songs i and j\n",
        "                    users_union = users_i.union(users_j)\n",
        "                    \n",
        "                    cooccurence_matrix[j,i] = float(len(users_intersection))/float(len(users_union))\n",
        "                else:\n",
        "                    cooccurence_matrix[j,i] = 0\n",
        "                    \n",
        "        \n",
        "        return cooccurence_matrix\n",
        "\n",
        "    \n",
        "    #Use the cooccurence matrix to make top recommendations\n",
        "    def generate_top_recommendations(self, user, cooccurence_matrix, all_songs, user_songs):\n",
        "        print(\"Non zero values in cooccurence_matrix :%d\" % np.count_nonzero(cooccurence_matrix))\n",
        "        \n",
        "        #Calculate a weighted average of the scores in cooccurence matrix for all user songs.\n",
        "        user_sim_scores = cooccurence_matrix.sum(axis=0)/float(cooccurence_matrix.shape[0])\n",
        "        user_sim_scores = np.array(user_sim_scores)[0].tolist()\n",
        " \n",
        "        #Sort the indices of user_sim_scores based upon their value\n",
        "        #Also maintain the corresponding score\n",
        "        sort_index = sorted(((e,i) for i,e in enumerate(list(user_sim_scores))), reverse=True)\n",
        "    \n",
        "        #Create a dataframe from the following\n",
        "        columns = ['user_id', 'song', 'score', 'rank']\n",
        "        #index = np.arange(1) # array of numbers for the number of samples\n",
        "        df = pd.DataFrame(columns=columns)\n",
        "         \n",
        "        #Fill the dataframe with top 10 item based recommendations\n",
        "        rank = 1 \n",
        "        for i in range(0,len(sort_index)):\n",
        "            if ~np.isnan(sort_index[i][0]) and all_songs[sort_index[i][1]] not in user_songs and rank <= 10:\n",
        "                df.loc[len(df)]=[user,all_songs[sort_index[i][1]],sort_index[i][0],rank]\n",
        "                rank = rank+1\n",
        "        \n",
        "        #Handle the case where there are no recommendations\n",
        "        if df.shape[0] == 0:\n",
        "            print(\"The current user has no songs for training the item similarity based recommendation model.\")\n",
        "            return -1\n",
        "        else:\n",
        "            return df\n",
        " \n",
        "    #Create the item similarity based recommender system model\n",
        "    def create(self, train_data, user_id, item_id):\n",
        "        self.train_data = train_data\n",
        "        self.user_id = user_id\n",
        "        self.item_id = item_id\n",
        "\n",
        "    #Use the item similarity based recommender system model to\n",
        "    #make recommendations\n",
        "    def recommend(self, user):\n",
        "        #Get all unique songs for this user\n",
        "        user_songs = self.get_user_items(user)\n",
        "        print(\"No. of unique songs for the user: %d\" % len(user_songs))\n",
        "        all_songs = self.get_all_items_train_data()\n",
        "        #C. Construct item cooccurence matrix of size \n",
        "        #len(user_songs) X len(songs)\n",
        "        cooccurence_matrix = self.construct_cooccurence_matrix(user_songs, all_songs)\n",
        "        #D. Use the cooccurence matrix to make recommendations\n",
        "        df_recommendations = self.generate_top_recommendations(user, cooccurence_matrix, all_songs, user_songs)\n",
        "                \n",
        "        return df_recommendations\n",
        "    \n",
        "    #Get similar items to given items\n",
        "    def get_similar_items(self, item_list):\n",
        "        user_songs = item_list\n",
        "        #B. Get all unique items (songs) in the training data\n",
        "        all_songs = self.get_all_items_train_data()\n",
        "\n",
        "        print(\"no. of unique songs in the training set: %d\" % len(all_songs))\n",
        "        #C. Construct item cooccurence matrix of size \n",
        "        #len(user_songs) X len(songs)\n",
        "        cooccurence_matrix = self.construct_cooccurence_matrix(user_songs, all_songs)\n",
        "        #D. Use the cooccurence matrix to make recommendations\n",
        "        user = \"\"\n",
        "        df_recommendations = self.generate_top_recommendations(user, cooccurence_matrix, all_songs, user_songs)\n",
        "         \n",
        "        return df_recommendations"
      ],
      "execution_count": 13,
      "outputs": []
    },
    {
      "cell_type": "markdown",
      "metadata": {
        "id": "WTFrkVwIvKtv"
      },
      "source": [
        "## **Creating a sample dataset for recommendation**"
      ]
    },
    {
      "cell_type": "code",
      "metadata": {
        "id": "tTsZO5Tdbyus"
      },
      "source": [
        "  final_sample = final_data.head(5000)"
      ],
      "execution_count": 14,
      "outputs": []
    },
    {
      "cell_type": "code",
      "metadata": {
        "colab": {
          "base_uri": "https://localhost:8080/",
          "height": 450
        },
        "id": "OBzdLr1fcVFX",
        "outputId": "8e88279c-eabf-4e92-ecc3-9dd9d2e93ebc"
      },
      "source": [
        "final_sample"
      ],
      "execution_count": 15,
      "outputs": [
        {
          "output_type": "execute_result",
          "data": {
            "text/html": [
              "<div>\n",
              "<style scoped>\n",
              "    .dataframe tbody tr th:only-of-type {\n",
              "        vertical-align: middle;\n",
              "    }\n",
              "\n",
              "    .dataframe tbody tr th {\n",
              "        vertical-align: top;\n",
              "    }\n",
              "\n",
              "    .dataframe thead th {\n",
              "        text-align: right;\n",
              "    }\n",
              "</style>\n",
              "<table border=\"1\" class=\"dataframe\">\n",
              "  <thead>\n",
              "    <tr style=\"text-align: right;\">\n",
              "      <th></th>\n",
              "      <th>user_id</th>\n",
              "      <th>song_id</th>\n",
              "      <th>freq</th>\n",
              "      <th>track_id</th>\n",
              "      <th>artist_name</th>\n",
              "      <th>release</th>\n",
              "    </tr>\n",
              "  </thead>\n",
              "  <tbody>\n",
              "    <tr>\n",
              "      <th>0</th>\n",
              "      <td>fd50c4007b68a3737fe052d5a4f78ce8aa117f3d</td>\n",
              "      <td>SOBONKR12A58A7A7E0</td>\n",
              "      <td>1</td>\n",
              "      <td>TRAEHHJ12903CF492F</td>\n",
              "      <td>Dwight Yoakam</td>\n",
              "      <td>You're The One</td>\n",
              "    </tr>\n",
              "    <tr>\n",
              "      <th>1</th>\n",
              "      <td>fd50c4007b68a3737fe052d5a4f78ce8aa117f3d</td>\n",
              "      <td>SOEGIYH12A6D4FC0E3</td>\n",
              "      <td>1</td>\n",
              "      <td>TRLGMFJ128F4217DBE</td>\n",
              "      <td>Barry Tuckwell/Academy of St Martin-in-the-Fie...</td>\n",
              "      <td>Horn Concerto No. 4 in E flat K495: II. Romanc...</td>\n",
              "    </tr>\n",
              "    <tr>\n",
              "      <th>2</th>\n",
              "      <td>fd50c4007b68a3737fe052d5a4f78ce8aa117f3d</td>\n",
              "      <td>SOFLJQZ12A6D4FADA6</td>\n",
              "      <td>1</td>\n",
              "      <td>TRTNDNE128F1486812</td>\n",
              "      <td>Cartola</td>\n",
              "      <td>Tive Sim</td>\n",
              "    </tr>\n",
              "    <tr>\n",
              "      <th>3</th>\n",
              "      <td>fd50c4007b68a3737fe052d5a4f78ce8aa117f3d</td>\n",
              "      <td>SOHTKMO12AB01843B0</td>\n",
              "      <td>1</td>\n",
              "      <td>TRASTUE128F930D488</td>\n",
              "      <td>Lonnie Gordon</td>\n",
              "      <td>Catch You Baby (Steve Pitron &amp; Max Sanna Radio...</td>\n",
              "    </tr>\n",
              "    <tr>\n",
              "      <th>4</th>\n",
              "      <td>fd50c4007b68a3737fe052d5a4f78ce8aa117f3d</td>\n",
              "      <td>SODQZCY12A6D4F9D11</td>\n",
              "      <td>1</td>\n",
              "      <td>TRFPLWO128F1486B9E</td>\n",
              "      <td>Miguel Calo</td>\n",
              "      <td>El Cuatrero</td>\n",
              "    </tr>\n",
              "    <tr>\n",
              "      <th>...</th>\n",
              "      <td>...</td>\n",
              "      <td>...</td>\n",
              "      <td>...</td>\n",
              "      <td>...</td>\n",
              "      <td>...</td>\n",
              "      <td>...</td>\n",
              "    </tr>\n",
              "    <tr>\n",
              "      <th>4995</th>\n",
              "      <td>13cee37ea2e198ce8354a962b118c1770db351d6</td>\n",
              "      <td>SOBFPEX12A58A7A698</td>\n",
              "      <td>1</td>\n",
              "      <td>TRWSOZK12903C9554D</td>\n",
              "      <td>A Hawk And A Hacksaw</td>\n",
              "      <td>Portlandtown</td>\n",
              "    </tr>\n",
              "    <tr>\n",
              "      <th>4996</th>\n",
              "      <td>13cee37ea2e198ce8354a962b118c1770db351d6</td>\n",
              "      <td>SOOKGRB12A8C13CD66</td>\n",
              "      <td>1</td>\n",
              "      <td>TRYHWLD128F426BF7D</td>\n",
              "      <td>Fleet Foxes</td>\n",
              "      <td>Mykonos</td>\n",
              "    </tr>\n",
              "    <tr>\n",
              "      <th>4997</th>\n",
              "      <td>13cee37ea2e198ce8354a962b118c1770db351d6</td>\n",
              "      <td>SOGLSPG12A8C13FD9E</td>\n",
              "      <td>1</td>\n",
              "      <td>TRTNODY128F42B772F</td>\n",
              "      <td>PJ Harvey</td>\n",
              "      <td>Bows &amp; Arrows</td>\n",
              "    </tr>\n",
              "    <tr>\n",
              "      <th>4998</th>\n",
              "      <td>13cee37ea2e198ce8354a962b118c1770db351d6</td>\n",
              "      <td>SOUFBTM12A8AE46153</td>\n",
              "      <td>1</td>\n",
              "      <td>TRRMCOW128F4259DF0</td>\n",
              "      <td>My Bloody Valentine</td>\n",
              "      <td>(When You Wake) You're Still In A Dream</td>\n",
              "    </tr>\n",
              "    <tr>\n",
              "      <th>4999</th>\n",
              "      <td>13cee37ea2e198ce8354a962b118c1770db351d6</td>\n",
              "      <td>SOAWJSH12A8C13AE09</td>\n",
              "      <td>1</td>\n",
              "      <td>TRPSDNK128F428E854</td>\n",
              "      <td>Alicia Keys featuring Tony! Toni! Toné! and Je...</td>\n",
              "      <td>Diary</td>\n",
              "    </tr>\n",
              "  </tbody>\n",
              "</table>\n",
              "<p>5000 rows × 6 columns</p>\n",
              "</div>"
            ],
            "text/plain": [
              "                                       user_id  ...                                            release\n",
              "0     fd50c4007b68a3737fe052d5a4f78ce8aa117f3d  ...                                     You're The One\n",
              "1     fd50c4007b68a3737fe052d5a4f78ce8aa117f3d  ...  Horn Concerto No. 4 in E flat K495: II. Romanc...\n",
              "2     fd50c4007b68a3737fe052d5a4f78ce8aa117f3d  ...                                           Tive Sim\n",
              "3     fd50c4007b68a3737fe052d5a4f78ce8aa117f3d  ...  Catch You Baby (Steve Pitron & Max Sanna Radio...\n",
              "4     fd50c4007b68a3737fe052d5a4f78ce8aa117f3d  ...                                        El Cuatrero\n",
              "...                                        ...  ...                                                ...\n",
              "4995  13cee37ea2e198ce8354a962b118c1770db351d6  ...                                       Portlandtown\n",
              "4996  13cee37ea2e198ce8354a962b118c1770db351d6  ...                                            Mykonos\n",
              "4997  13cee37ea2e198ce8354a962b118c1770db351d6  ...                                      Bows & Arrows\n",
              "4998  13cee37ea2e198ce8354a962b118c1770db351d6  ...            (When You Wake) You're Still In A Dream\n",
              "4999  13cee37ea2e198ce8354a962b118c1770db351d6  ...                                              Diary\n",
              "\n",
              "[5000 rows x 6 columns]"
            ]
          },
          "metadata": {
            "tags": []
          },
          "execution_count": 15
        }
      ]
    },
    {
      "cell_type": "code",
      "metadata": {
        "id": "s-siA2SSlRJg"
      },
      "source": [
        "recommendation = item_similarity_recommender_py()\n",
        "recommendation.create(final_sample, 'user_id', 'release')"
      ],
      "execution_count": 30,
      "outputs": []
    },
    {
      "cell_type": "code",
      "metadata": {
        "id": "dGjb1ToQnhNg"
      },
      "source": [
        "user_items = recommendation.get_user_items(final_sample['user_id'][60])"
      ],
      "execution_count": 31,
      "outputs": []
    },
    {
      "cell_type": "code",
      "metadata": {
        "colab": {
          "base_uri": "https://localhost:8080/"
        },
        "id": "jED3Vyo9nsYC",
        "outputId": "2b288d01-391d-452e-8011-bc5d43e11894"
      },
      "source": [
        "for user_item in user_items:\n",
        "    print(user_item)"
      ],
      "execution_count": 32,
      "outputs": [
        {
          "output_type": "stream",
          "text": [
            "Kryptonite\n",
            "Un Simple Histoire\n",
            "Love Letters\n",
            "Passacaglia\n",
            "Pastorale\n",
            "Until The Morning\n",
            "The Richest Man In Babylon\n",
            "In The Waiting Line\n",
            "Illumination\n",
            "Big Yellow Taxi\n"
          ],
          "name": "stdout"
        }
      ]
    },
    {
      "cell_type": "code",
      "metadata": {
        "colab": {
          "base_uri": "https://localhost:8080/",
          "height": 390
        },
        "id": "u10zkHpXn0d5",
        "outputId": "c2f312be-a14f-40cd-e095-a8e3a18adbdc"
      },
      "source": [
        "recommendation.get_similar_items(['Oliver James - Fleet Foxes', 'The End - Pearl Jam'])"
      ],
      "execution_count": 33,
      "outputs": [
        {
          "output_type": "stream",
          "text": [
            "no. of unique songs in the training set: 4078\n",
            "Non zero values in cooccurence_matrix :0\n"
          ],
          "name": "stdout"
        },
        {
          "output_type": "execute_result",
          "data": {
            "text/html": [
              "<div>\n",
              "<style scoped>\n",
              "    .dataframe tbody tr th:only-of-type {\n",
              "        vertical-align: middle;\n",
              "    }\n",
              "\n",
              "    .dataframe tbody tr th {\n",
              "        vertical-align: top;\n",
              "    }\n",
              "\n",
              "    .dataframe thead th {\n",
              "        text-align: right;\n",
              "    }\n",
              "</style>\n",
              "<table border=\"1\" class=\"dataframe\">\n",
              "  <thead>\n",
              "    <tr style=\"text-align: right;\">\n",
              "      <th></th>\n",
              "      <th>user_id</th>\n",
              "      <th>song</th>\n",
              "      <th>score</th>\n",
              "      <th>rank</th>\n",
              "    </tr>\n",
              "  </thead>\n",
              "  <tbody>\n",
              "    <tr>\n",
              "      <th>0</th>\n",
              "      <td></td>\n",
              "      <td>Diary</td>\n",
              "      <td>0.0</td>\n",
              "      <td>1</td>\n",
              "    </tr>\n",
              "    <tr>\n",
              "      <th>1</th>\n",
              "      <td></td>\n",
              "      <td>(When You Wake) You're Still In A Dream</td>\n",
              "      <td>0.0</td>\n",
              "      <td>2</td>\n",
              "    </tr>\n",
              "    <tr>\n",
              "      <th>2</th>\n",
              "      <td></td>\n",
              "      <td>Bows &amp; Arrows</td>\n",
              "      <td>0.0</td>\n",
              "      <td>3</td>\n",
              "    </tr>\n",
              "    <tr>\n",
              "      <th>3</th>\n",
              "      <td></td>\n",
              "      <td>Mykonos</td>\n",
              "      <td>0.0</td>\n",
              "      <td>4</td>\n",
              "    </tr>\n",
              "    <tr>\n",
              "      <th>4</th>\n",
              "      <td></td>\n",
              "      <td>Portlandtown</td>\n",
              "      <td>0.0</td>\n",
              "      <td>5</td>\n",
              "    </tr>\n",
              "    <tr>\n",
              "      <th>5</th>\n",
              "      <td></td>\n",
              "      <td>Suesfine</td>\n",
              "      <td>0.0</td>\n",
              "      <td>6</td>\n",
              "    </tr>\n",
              "    <tr>\n",
              "      <th>6</th>\n",
              "      <td></td>\n",
              "      <td>Look!</td>\n",
              "      <td>0.0</td>\n",
              "      <td>7</td>\n",
              "    </tr>\n",
              "    <tr>\n",
              "      <th>7</th>\n",
              "      <td></td>\n",
              "      <td>Several Girls Galore</td>\n",
              "      <td>0.0</td>\n",
              "      <td>8</td>\n",
              "    </tr>\n",
              "    <tr>\n",
              "      <th>8</th>\n",
              "      <td></td>\n",
              "      <td>All Together Now</td>\n",
              "      <td>0.0</td>\n",
              "      <td>9</td>\n",
              "    </tr>\n",
              "    <tr>\n",
              "      <th>9</th>\n",
              "      <td></td>\n",
              "      <td>Groovin' In The Midnight</td>\n",
              "      <td>0.0</td>\n",
              "      <td>10</td>\n",
              "    </tr>\n",
              "  </tbody>\n",
              "</table>\n",
              "</div>"
            ],
            "text/plain": [
              "  user_id                                     song  score rank\n",
              "0                                            Diary    0.0    1\n",
              "1          (When You Wake) You're Still In A Dream    0.0    2\n",
              "2                                    Bows & Arrows    0.0    3\n",
              "3                                          Mykonos    0.0    4\n",
              "4                                     Portlandtown    0.0    5\n",
              "5                                         Suesfine    0.0    6\n",
              "6                                            Look!    0.0    7\n",
              "7                             Several Girls Galore    0.0    8\n",
              "8                                 All Together Now    0.0    9\n",
              "9                         Groovin' In The Midnight    0.0   10"
            ]
          },
          "metadata": {
            "tags": []
          },
          "execution_count": 33
        }
      ]
    },
    {
      "cell_type": "code",
      "metadata": {
        "colab": {
          "base_uri": "https://localhost:8080/",
          "height": 35
        },
        "id": "1OyIl9vLTzpE",
        "outputId": "65bf8bd5-1c39-48a4-cafd-bbc9100b1ade"
      },
      "source": [
        "final_data['release'][6]"
      ],
      "execution_count": 34,
      "outputs": [
        {
          "output_type": "execute_result",
          "data": {
            "application/vnd.google.colaboratory.intrinsic+json": {
              "type": "string"
            },
            "text/plain": [
              "'Lift Me Up'"
            ]
          },
          "metadata": {
            "tags": []
          },
          "execution_count": 34
        }
      ]
    },
    {
      "cell_type": "code",
      "metadata": {
        "id": "iAz-fE-on2rC"
      },
      "source": [
        "item_users = recommendation.get_item_users(final_sample['release'][1])"
      ],
      "execution_count": 35,
      "outputs": []
    },
    {
      "cell_type": "code",
      "metadata": {
        "colab": {
          "base_uri": "https://localhost:8080/"
        },
        "id": "bAPjlZJPTb5j",
        "outputId": "9f681122-c547-4ab6-f928-1f769eb2face"
      },
      "source": [
        "count=0\n",
        "for user in item_users:\n",
        "    count+=1\n",
        "\n",
        "print('No of users: ',count)\n",
        "for user in item_users:\n",
        "  print(user)"
      ],
      "execution_count": 36,
      "outputs": [
        {
          "output_type": "stream",
          "text": [
            "No of users:  11\n",
            "5495dccfae0b78a23c60c95db39e1e1d6e99ba6d\n",
            "8061f61372876878c2d67bc49b3ddbd2c83d69e2\n",
            "4fbde29be137e7179046c148f9e15db17c3278be\n",
            "ab3883c6182f050d6bbca6f2cd8983eb81084417\n",
            "a344d1f94e0f6d5783860f62d8bc8ba2fec3d530\n",
            "248378ac27e1745d6a9d59392b7dc5b02a6186a6\n",
            "93d158458cbf375218ae7de7fd428bf94cc1491e\n",
            "ff8891b901eed1a3abc9bd4c53a17d2bcdc0ead7\n",
            "fd50c4007b68a3737fe052d5a4f78ce8aa117f3d\n",
            "d47c829c4ff6270f9ab82ca36b2805951b62a208\n",
            "7c49f3e11a6fce79ae60b44df2a3edcf6eb2e163\n"
          ],
          "name": "stdout"
        }
      ]
    },
    {
      "cell_type": "code",
      "metadata": {
        "colab": {
          "base_uri": "https://localhost:8080/",
          "height": 390
        },
        "id": "M60EIpB6ThF_",
        "outputId": "128414fc-00fe-4a86-9bf4-b6b839c09b4e"
      },
      "source": [
        "# give song recommendation for that user\n",
        "recommendation.recommend(final_sample['user_id'][5])"
      ],
      "execution_count": 37,
      "outputs": [
        {
          "output_type": "stream",
          "text": [
            "No. of unique songs for the user: 6\n",
            "Non zero values in cooccurence_matrix :788\n"
          ],
          "name": "stdout"
        },
        {
          "output_type": "execute_result",
          "data": {
            "text/html": [
              "<div>\n",
              "<style scoped>\n",
              "    .dataframe tbody tr th:only-of-type {\n",
              "        vertical-align: middle;\n",
              "    }\n",
              "\n",
              "    .dataframe tbody tr th {\n",
              "        vertical-align: top;\n",
              "    }\n",
              "\n",
              "    .dataframe thead th {\n",
              "        text-align: right;\n",
              "    }\n",
              "</style>\n",
              "<table border=\"1\" class=\"dataframe\">\n",
              "  <thead>\n",
              "    <tr style=\"text-align: right;\">\n",
              "      <th></th>\n",
              "      <th>user_id</th>\n",
              "      <th>song</th>\n",
              "      <th>score</th>\n",
              "      <th>rank</th>\n",
              "    </tr>\n",
              "  </thead>\n",
              "  <tbody>\n",
              "    <tr>\n",
              "      <th>0</th>\n",
              "      <td>fd50c4007b68a3737fe052d5a4f78ce8aa117f3d</td>\n",
              "      <td>Sayonara-Nostalgia</td>\n",
              "      <td>0.099789</td>\n",
              "      <td>1</td>\n",
              "    </tr>\n",
              "    <tr>\n",
              "      <th>1</th>\n",
              "      <td>fd50c4007b68a3737fe052d5a4f78ce8aa117f3d</td>\n",
              "      <td>Revelry</td>\n",
              "      <td>0.074193</td>\n",
              "      <td>2</td>\n",
              "    </tr>\n",
              "    <tr>\n",
              "      <th>2</th>\n",
              "      <td>fd50c4007b68a3737fe052d5a4f78ce8aa117f3d</td>\n",
              "      <td>Représente</td>\n",
              "      <td>0.071636</td>\n",
              "      <td>3</td>\n",
              "    </tr>\n",
              "    <tr>\n",
              "      <th>3</th>\n",
              "      <td>fd50c4007b68a3737fe052d5a4f78ce8aa117f3d</td>\n",
              "      <td>Undo</td>\n",
              "      <td>0.060489</td>\n",
              "      <td>4</td>\n",
              "    </tr>\n",
              "    <tr>\n",
              "      <th>4</th>\n",
              "      <td>fd50c4007b68a3737fe052d5a4f78ce8aa117f3d</td>\n",
              "      <td>Rianna</td>\n",
              "      <td>0.059678</td>\n",
              "      <td>5</td>\n",
              "    </tr>\n",
              "    <tr>\n",
              "      <th>5</th>\n",
              "      <td>fd50c4007b68a3737fe052d5a4f78ce8aa117f3d</td>\n",
              "      <td>Secrets</td>\n",
              "      <td>0.057037</td>\n",
              "      <td>6</td>\n",
              "    </tr>\n",
              "    <tr>\n",
              "      <th>6</th>\n",
              "      <td>fd50c4007b68a3737fe052d5a4f78ce8aa117f3d</td>\n",
              "      <td>Die Kunst der Fuge_ BWV 1080 (2007 Digital Rem...</td>\n",
              "      <td>0.054335</td>\n",
              "      <td>7</td>\n",
              "    </tr>\n",
              "    <tr>\n",
              "      <th>7</th>\n",
              "      <td>fd50c4007b68a3737fe052d5a4f78ce8aa117f3d</td>\n",
              "      <td>Robot Soul (Radio Edit)</td>\n",
              "      <td>0.053788</td>\n",
              "      <td>8</td>\n",
              "    </tr>\n",
              "    <tr>\n",
              "      <th>8</th>\n",
              "      <td>fd50c4007b68a3737fe052d5a4f78ce8aa117f3d</td>\n",
              "      <td>A Beggar On A Beach Of Gold</td>\n",
              "      <td>0.052697</td>\n",
              "      <td>9</td>\n",
              "    </tr>\n",
              "    <tr>\n",
              "      <th>9</th>\n",
              "      <td>fd50c4007b68a3737fe052d5a4f78ce8aa117f3d</td>\n",
              "      <td>I.D.G.A.F</td>\n",
              "      <td>0.048485</td>\n",
              "      <td>10</td>\n",
              "    </tr>\n",
              "  </tbody>\n",
              "</table>\n",
              "</div>"
            ],
            "text/plain": [
              "                                    user_id  ... rank\n",
              "0  fd50c4007b68a3737fe052d5a4f78ce8aa117f3d  ...    1\n",
              "1  fd50c4007b68a3737fe052d5a4f78ce8aa117f3d  ...    2\n",
              "2  fd50c4007b68a3737fe052d5a4f78ce8aa117f3d  ...    3\n",
              "3  fd50c4007b68a3737fe052d5a4f78ce8aa117f3d  ...    4\n",
              "4  fd50c4007b68a3737fe052d5a4f78ce8aa117f3d  ...    5\n",
              "5  fd50c4007b68a3737fe052d5a4f78ce8aa117f3d  ...    6\n",
              "6  fd50c4007b68a3737fe052d5a4f78ce8aa117f3d  ...    7\n",
              "7  fd50c4007b68a3737fe052d5a4f78ce8aa117f3d  ...    8\n",
              "8  fd50c4007b68a3737fe052d5a4f78ce8aa117f3d  ...    9\n",
              "9  fd50c4007b68a3737fe052d5a4f78ce8aa117f3d  ...   10\n",
              "\n",
              "[10 rows x 4 columns]"
            ]
          },
          "metadata": {
            "tags": []
          },
          "execution_count": 37
        }
      ]
    },
    {
      "cell_type": "code",
      "metadata": {
        "id": "MN1dkadJjhQ7"
      },
      "source": [
        ""
      ],
      "execution_count": 37,
      "outputs": []
    }
  ]
}